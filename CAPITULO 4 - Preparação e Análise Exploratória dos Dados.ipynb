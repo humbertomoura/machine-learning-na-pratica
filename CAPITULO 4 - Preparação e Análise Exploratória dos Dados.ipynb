{
 "cells": [
  {
   "cell_type": "markdown",
   "id": "37e0d59d",
   "metadata": {},
   "source": [
    "# CAPÍTULO 3 - Fundamentos de Numpy, Matplotlib e Pandas\n"
   ]
  },
  {
   "cell_type": "markdown",
   "id": "59de772c",
   "metadata": {},
   "source": [
    "## 3.1 Numpy"
   ]
  },
  {
   "cell_type": "markdown",
   "id": "9407b04f",
   "metadata": {},
   "source": [
    "### 3.1.2 Criando um vetor ou uma matriz no NumPy"
   ]
  },
  {
   "cell_type": "code",
   "execution_count": 1,
   "id": "b249199e",
   "metadata": {},
   "outputs": [
    {
     "name": "stdout",
     "output_type": "stream",
     "text": [
      "[ 1  2  3  4  5  6  7  8  9 10]\n",
      "[[1 2 3]\n",
      " [4 5 6]]\n"
     ]
    }
   ],
   "source": [
    "import numpy as np                             # importa, para uso, a biblioteca numpy com o nome np\n",
    "\n",
    "m = np.array([1, 2, 3, 4, 5, 6, 7, 8 , 9, 10]) # declara e inicializa o array m\n",
    "print(m)                                       # exibe o conteúdo do m\n",
    "\n",
    "n = np.array([[1, 2, 3], [4, 5, 6]])           # declara e inicializa o array n\n",
    "print(n)                                       # exibe o conteúdo do m"
   ]
  },
  {
   "cell_type": "markdown",
   "id": "d5a01e02",
   "metadata": {},
   "source": [
    "### 3.1.3 Obtendo informações do formato de um array Numpy"
   ]
  },
  {
   "cell_type": "code",
   "execution_count": 2,
   "id": "7b9c7402",
   "metadata": {},
   "outputs": [
    {
     "name": "stdout",
     "output_type": "stream",
     "text": [
      "1\n",
      "(10,)\n",
      "10\n",
      "2\n",
      "(2, 3)\n",
      "6\n"
     ]
    }
   ],
   "source": [
    "import numpy as np \n",
    "\n",
    "m = np.array([1, 2, 3, 4, 5, 6, 7, 8 , 9, 10]) \n",
    "n = np.array([[1, 2, 3], [4, 5, 6]])           \n",
    "\n",
    "print(np.ndim(m)) # exibe o número de dimensões de m\n",
    "print(m.shape)    # exibe o formato (shape) de m    \n",
    "print(m.size)     # exibe o tamanho (size), ou total de elementos de m.\n",
    "\n",
    "print(np.ndim(n)) # exibe o número de dimensões de n  \n",
    "print(n.shape)    # exibe o formato (shape) de n    \n",
    "print(n.size)     # exibe o tamanho (size), ou total de elementos de mn."
   ]
  },
  {
   "cell_type": "markdown",
   "id": "10945b2d",
   "metadata": {},
   "source": [
    "### 3.1.4 Filtrando elementos através do fatiamento (slicing)"
   ]
  },
  {
   "cell_type": "code",
   "execution_count": 3,
   "id": "e5d19127",
   "metadata": {},
   "outputs": [
    {
     "name": "stdout",
     "output_type": "stream",
     "text": [
      "[ 1  2  3  4  5  6  7  8  9 10]\n",
      "[ 1  2  3  4  5  6  7  8  9 10]\n",
      "[1 2 3 4 5]\n",
      "[3 4 5]\n",
      "[1 2 3 4 5 6 7]\n",
      "[3 4 5 6 7]\n"
     ]
    }
   ],
   "source": [
    "import numpy as np\n",
    "\n",
    "m = np.array([1,2,3,4,5,6,7,8,9,10])\n",
    "\n",
    "print(m)        # imprime todos os elementos\n",
    "print(m[:])     # imprime todos os elementos (não especifica inicio e fim)\n",
    "print(m[:5])    # imprime até o 5º elemento começando pelo índice 0\n",
    "print(m[2:5])   # imprime até o 5º próximos elementos começando pelo  índice 2               \n",
    "print(m[:-3])   # imprime excluindo os 3 último elementos (final -3)\n",
    "print(m[2:-3])  # imprime excluindo os 2 primeiros e os 3 últimos elementos (início 2 e final -3)"
   ]
  },
  {
   "cell_type": "code",
   "execution_count": 4,
   "id": "1fca59dc",
   "metadata": {},
   "outputs": [
    {
     "name": "stdout",
     "output_type": "stream",
     "text": [
      "[[1 2 3 4]\n",
      " [3 6 9 1]\n",
      " [0 2 4 8]\n",
      " [7 5 9 3]]\n",
      "[[1 2 3 4]\n",
      " [3 6 9 1]\n",
      " [0 2 4 8]\n",
      " [7 5 9 3]]\n",
      "[[1 2 3 4]\n",
      " [3 6 9 1]]\n",
      "[[3 6 9 1]]\n",
      "[[1 2 3 4]]\n",
      "[[0 2 4 8]]\n"
     ]
    }
   ],
   "source": [
    "import numpy as np\n",
    "\n",
    "n = np.array([[1, 2, 3 ,4], [3, 6, 9 ,1],[0, 2, 4 ,8], [7, 5, 9 ,3]])\n",
    "\n",
    "print(n)          # imprime todos os elementos\n",
    "print(n[:])       # imprime todos os elementos (não especifica inicio e fim)\n",
    "print(n[:2])      # imprime até o 2º elemento começando pelo índice 0\n",
    "print(n[1:2])     # imprime os 2 próximos elementos começando pelo índice 1\n",
    "print(n[:-3])     # imprime excluindo os 3 últimos elementos (final -3)\n",
    "print(n[2:-1])    # imprime excluindo os 2 primeiros e o último (-1) elementos (início 2 e final -1)"
   ]
  },
  {
   "cell_type": "markdown",
   "id": "dcaeacae",
   "metadata": {},
   "source": [
    "### 3.1.5 Gerando valores automaticamente com Numpy"
   ]
  },
  {
   "cell_type": "code",
   "execution_count": 5,
   "id": "e4bd74c6",
   "metadata": {},
   "outputs": [
    {
     "name": "stdout",
     "output_type": "stream",
     "text": [
      "[[0. 0. 0.]\n",
      " [0. 0. 0.]]\n",
      "[[1. 1. 1.]\n",
      " [1. 1. 1.]]\n",
      "[0 1 2 3 4 5 6 7 8 9]\n",
      "[3 4 5]\n",
      "[0 2 4 6 8]\n",
      "0.695742871809709\n",
      "[0.52330549 0.53136355]\n",
      "[[0.25574636 0.16281378 0.68793559 0.09650264]\n",
      " [0.64777256 0.15379389 0.47040365 0.78858464]\n",
      " [0.92001205 0.60185976 0.95854818 0.65366901]]\n",
      "[[1. 0. 0.]\n",
      " [0. 1. 0.]\n",
      " [0. 0. 1.]]\n",
      "[[1. 0. 0. 0.]\n",
      " [0. 1. 0. 0.]\n",
      " [0. 0. 1. 0.]\n",
      " [0. 0. 0. 1.]]\n",
      "[ 0.27791147 -0.92940329  0.63336707 -0.94474816  1.10997559 -1.24446866\n",
      " -0.95727845 -1.48619551  1.12079339 -0.50194781  1.52990605  0.97588448\n",
      " -0.75194752  0.63964196  0.0036727   1.46457881 -2.13338362 -0.26128423\n",
      " -0.80655304 -0.81735463  2.58340522 -0.45506087 -0.01167615  0.33319043\n",
      " -0.54837274 -0.11015304  0.17283964  1.38344015 -0.8096817   0.7978101 ]\n",
      "[[-1.280297    0.19385973]\n",
      " [-1.11243163  1.60183928]\n",
      " [-1.19411219  1.55607354]\n",
      " [-0.34197929 -1.03971094]]\n",
      "[ 50.          58.33333333  66.66666667  75.          83.33333333\n",
      "  91.66666667 100.        ]\n"
     ]
    }
   ],
   "source": [
    "import numpy as np\n",
    "\n",
    "print(np.zeros((2,3)))          # gera 2 colunas com 3 zeros cada\n",
    "print(np.ones((2,3)))           # gera 2 colunas com 3 uns cada\n",
    "\n",
    "print(np.arange(0,10))          # gera elementos na faixa de >= 0 e < 10  ou seja = [0 1 2 3 4 5 6 7 8 9]\n",
    "print(np.arange(3,6))           # gera elementos na faixa de >= 3 e < 6   ou seja = [3 4 5]\n",
    "print(np.arange(0,10,2))        # gera elementos na faixa de >= 0 e < 10 de 2  em 2 = [0 2 4 6 8]\n",
    "\n",
    "print(np.random.random())       # gera um número aleatório entre 0 e 1\n",
    "print(np.random.random(2))      # gera dois números aleatórios entre 0 e 1\n",
    "print(np.random.random((3,4)))  # gera matriz de 3 colunas de 4 elementos aleatórios entre 0 e 1\n",
    "\n",
    "print(np.eye(3))                # gera a matriz identidade (álgebra linear) de tamanho 3 x 3\n",
    "print(np.eye(4))                # gera a matriz identidade (álgebra linear) de tamanho 4 x 4\n",
    "\n",
    "print(np.random.randn(30))      # gera 30 números aleatórios em distribuição normal (gaussiana)\n",
    "print(np.random.randn(4,2))     # gera matriz de [4,2] de elementos  aleatórios em distribuição normal \n",
    "\n",
    "print(np.linspace(50,100,7))    # gera 7 números na faixa de valores entre 50 e 100"
   ]
  },
  {
   "cell_type": "markdown",
   "id": "3cd259be",
   "metadata": {},
   "source": [
    "### 3.1.6 Realizando cálculos com Numpy"
   ]
  },
  {
   "cell_type": "code",
   "execution_count": 6,
   "id": "9bdbe66e",
   "metadata": {},
   "outputs": [
    {
     "name": "stdout",
     "output_type": "stream",
     "text": [
      "[7 7]\n",
      "[1 3]\n",
      "[12 10]\n",
      "[1.33333333 2.5       ]\n",
      "22\n",
      "11.0\n",
      "12\n",
      "10\n",
      "[2.         2.23606798]\n",
      "[9 4]\n",
      "1.0\n",
      "1.0\n",
      "11.0\n",
      "22\n"
     ]
    }
   ],
   "source": [
    "import numpy as np\n",
    "x = np.array([4,5])\n",
    "y = np.array([3,2])\n",
    "\n",
    "print(x + y)               # Resultado [7 7]   pois 4 + 3 = 7 e 5 + 2 = 7\n",
    "print(x - y)               # Resultado [1 3]       pois 4 - 3 = 1 e 5 - 2 = 3\n",
    "print(x * y)               # Resultado [12 10]   pois 4 * 3 = 12 e 5 * 2 = 10\n",
    "print(x / y)               # Resultado [1.33333333 2.5]   pois 4 / 3 = 1.33333333 e 5 / 2 = 2.5\n",
    "\n",
    "print(np.sum(x * y))       # Resultado 22 pois o somatório de [12 10] = 22\n",
    "print(np.mean(x * y))      # Resultado 11.0 pois a média de [12 10] = 11.0\n",
    "print(np.max(x * y))       # Resultado 12  pois o máximo de [12 10] = 12\n",
    "print(np.min(x * y))       # Resultado 10   pois o mínimo de [12 10] = 10\n",
    "\n",
    "print(np.sqrt(x))          # Resultado [2 2.23606798] pois a raiz quadrada de 4 = 2 e de 5 = 2.223606798\n",
    "print(np.power(y,2))       # Resultado [9 4] pois 3 elevado a 2 = 9 e 2 elevado a 2 = 4\n",
    "\n",
    "print(np.std(x * y))       # Resultado 1.0   pois o desvio padrão de [12 10] = 1.0\n",
    "print(np.var(x * y))       # Resultado 1.0   pois a variância entre [12 10] = 1.0\n",
    "print(np.median(x * y))    # Resultado 11.0 pois a mediana entre [12 10] = 11.0\n",
    "\n",
    "print(np.dot(x,y))         # Resultado 22 pois o produto escalar de [4,5] * [3,2] = 22\n"
   ]
  },
  {
   "cell_type": "markdown",
   "id": "24b5c840",
   "metadata": {},
   "source": [
    "### 3.1.7 Manipulando shapes com Numpy"
   ]
  },
  {
   "cell_type": "code",
   "execution_count": 7,
   "id": "ca86327d",
   "metadata": {},
   "outputs": [
    {
     "name": "stdout",
     "output_type": "stream",
     "text": [
      "[[2 3 4]\n",
      " [1 2 3]]\n",
      "[[[2 3 4]]\n",
      "\n",
      " [[1 2 3]]]\n",
      "(2, 3)\n",
      "[2 3 4 1 2 3]\n",
      "[[2 1]\n",
      " [3 2]\n",
      " [4 3]]\n",
      "[[2]\n",
      " [3]\n",
      " [4]\n",
      " [1]\n",
      " [2]\n",
      " [3]]\n"
     ]
    }
   ],
   "source": [
    "import numpy as np\n",
    "\n",
    "a = np.array([[2,3,4],[1,2,3]])\n",
    "print(a)\n",
    "\n",
    "a2 = a[:, np.newaxis]  # adiciona um novo eixo [] (dimensão)\n",
    "print(a2)              # exibe a matriz a2 com o novo eixo = [[[2 3 4]] [[1 2 3]]]\n",
    "print(a.shape)         # shape tipo (2, 3) ou seja 2 linhas de 3 elementos (colunas) cada.\n",
    "print(a.ravel())       # exibe formato flatten (todos elementos em uma linha),  ou seja [2 3 4 1 2 3] \n",
    "print(a.transpose())   # Inverte linha e coluna. Exibe o shape de (2,3) para (3,2)\n",
    "a.shape=(6,1)          # Tranforma o shape para (6,1) \n",
    "print(a)               # imprime o array que foi transformado no formato de 6 linhas e 1 coluna\n"
   ]
  },
  {
   "cell_type": "markdown",
   "id": "dd60ed36",
   "metadata": {},
   "source": [
    "## 3.2 Matplotlib"
   ]
  },
  {
   "cell_type": "markdown",
   "id": "db22a3ab",
   "metadata": {},
   "source": [
    "### 3.2.1 Gráfico de Linha"
   ]
  },
  {
   "cell_type": "code",
   "execution_count": 8,
   "id": "43616e6c",
   "metadata": {},
   "outputs": [
    {
     "data": {
      "image/png": "[encoded data removed]",
      "text/plain": [
       "<Figure size 432x288 with 1 Axes>"
      ]
     },
     "metadata": {
      "needs_background": "light"
     },
     "output_type": "display_data"
    }
   ],
   "source": [
    "import matplotlib.pyplot as plt\n",
    "x = [\"segunda\",\"terça\",\"quarta\",\"quinta\", \"sexta\",\"sábado\", \"domingo\"]\n",
    "y = [4, 9, 12, 25, 35, 55, 43]\n",
    "\n",
    "plt.plot(x, y)\n",
    "\n",
    "plt.xlabel('Dias da semana')\n",
    "plt.ylabel('Picolés vendidos')\n",
    "plt.title('Picolés Vendidos por Dia da Semana')\n",
    "plt.savefig(\"vendas_picole.jpg\")\n",
    "\n",
    "plt.show()"
   ]
  },
  {
   "cell_type": "code",
   "execution_count": 9,
   "id": "c2689714",
   "metadata": {},
   "outputs": [
    {
     "data": {
      "image/png": "[encoded data removed]",
      "text/plain": [
       "<Figure size 432x288 with 1 Axes>"
      ]
     },
     "metadata": {
      "needs_background": "light"
     },
     "output_type": "display_data"
    }
   ],
   "source": [
    "import matplotlib.pyplot as plt\n",
    "x = [\"segunda\",\"terça\",\"quarta\",\"quinta\", \"sexta\",\"sábado\", \"domingo\"]\n",
    "picole = [3, 8, 13, 23, 30, 53, 48]\n",
    "sorvete = [4, 9, 12, 25, 33, 58, 70]\n",
    "milho = [1, 4, 7, 7, 28, 25, 33]\n",
    "\n",
    "plt.plot(x, picole,  label='Picolé')\n",
    "plt.plot(x, sorvete, label='Sorvete')\n",
    "plt.plot(x, milho,   label='Milho')\n",
    "plt.legend()\n",
    "\n",
    "plt.xlabel('Dias da semana')\n",
    "plt.ylabel('Produtos vendidos')\n",
    "plt.title('Produtos Vendidos por Dia da Semana')\n",
    "plt.savefig(\"vendas_produtos.jpg\")\n",
    "\n",
    "plt.show()"
   ]
  },
  {
   "cell_type": "markdown",
   "id": "e3983b67",
   "metadata": {},
   "source": [
    "### 3.2.2 Gráfico de Barra"
   ]
  },
  {
   "cell_type": "code",
   "execution_count": 10,
   "id": "06a31263",
   "metadata": {},
   "outputs": [
    {
     "data": {
      "image/png": "[encoded data removed]",
      "text/plain": [
       "<Figure size 432x288 with 1 Axes>"
      ]
     },
     "metadata": {
      "needs_background": "light"
     },
     "output_type": "display_data"
    }
   ],
   "source": [
    "import matplotlib.pyplot as plt\n",
    "\n",
    "trigo_vendas = 6\n",
    "soja_vendas = 8\n",
    "feijao_vendas = 4\n",
    "arroz_vendas = 5\n",
    "cafe_vendas = 6\n",
    "\n",
    "plt.bar('trigo',trigo_vendas)\n",
    "plt.bar('Soja', soja_vendas)\n",
    "plt.bar('Feijão', feijao_vendas)\n",
    "plt.bar('Arroz', arroz_vendas)\n",
    "plt.bar('Café', cafe_vendas)\n",
    "\n",
    "plt.xlabel('Commodities')\n",
    "plt.ylabel('Toneladas')\n",
    "plt.title('Commodities Agrícolas Vendidas em Março')\n",
    "plt.savefig(\"vendas_commodities.jpg\")\n",
    "\n",
    "plt.show()"
   ]
  },
  {
   "cell_type": "code",
   "execution_count": 11,
   "id": "c80cd0a7",
   "metadata": {},
   "outputs": [
    {
     "data": {
      "image/png": "[encoded data removed]",
      "text/plain": [
       "<Figure size 576x432 with 1 Axes>"
      ]
     },
     "metadata": {
      "needs_background": "light"
     },
     "output_type": "display_data"
    }
   ],
   "source": [
    "import matplotlib.pyplot as plt\n",
    "\n",
    "trigo_vendas = 6\n",
    "soja_vendas = 8\n",
    "feijao_vendas = 4\n",
    "arroz_vendas = 5\n",
    "cafe_vendas = 6\n",
    "plt.figure(figsize=(8,6))\n",
    "plt.barh('trigo',trigo_vendas,)\n",
    "plt.barh('Soja', soja_vendas)\n",
    "plt.barh('Feijão', feijao_vendas)\n",
    "plt.barh('Arroz', arroz_vendas)\n",
    "plt.barh('Café', cafe_vendas)\n",
    "\n",
    "plt.xlabel('Toneladas')\n",
    "plt.ylabel('Commodities') \n",
    "plt.title('Commodities Agrícolas Vendidas em Março',size=18)\n",
    "plt.savefig(\"vendas_commodities_barh.jpg\")\n",
    "\n",
    "plt.show()"
   ]
  },
  {
   "cell_type": "markdown",
   "id": "04af30af",
   "metadata": {},
   "source": [
    "### 3.2.3 Gráfico de Pizza (setor)"
   ]
  },
  {
   "cell_type": "code",
   "execution_count": 12,
   "id": "f7d0da36",
   "metadata": {},
   "outputs": [
    {
     "data": {
      "image/png": "[encoded data removed]",
      "text/plain": [
       "<Figure size 432x288 with 1 Axes>"
      ]
     },
     "metadata": {},
     "output_type": "display_data"
    }
   ],
   "source": [
    "import matplotlib.pyplot as plt\n",
    "\n",
    "commodities_nome = [\"Trigo\",\"Soja\", \"Feijão\", \"Arroz\", \"Café\"]\n",
    "commodities_vendas = [6, 8, 4, 5, 6]\n",
    "\n",
    "plt.pie(x = commodities_vendas,labels = commodities_nome,autopct = \"%1.2f%%\")\n",
    "\n",
    "plt.title('Commodities Agrícolas Vendidas em Março')\n",
    "plt.savefig(\"vendas_pie.jpg\")\n",
    "\n",
    "plt.show()"
   ]
  },
  {
   "cell_type": "code",
   "execution_count": 13,
   "id": "e18e6d75",
   "metadata": {},
   "outputs": [
    {
     "data": {
      "image/png": "[encoded data removed]",
      "text/plain": [
       "<Figure size 432x288 with 1 Axes>"
      ]
     },
     "metadata": {},
     "output_type": "display_data"
    }
   ],
   "source": [
    "import matplotlib.pyplot as plt\n",
    "\n",
    "commodities_nome = [\"Trigo\",\"Soja\", \"Feijão\", \"Arroz\", \"Café\"]\n",
    "commodities_vendas = [6, 8, 4, 5, 6]\n",
    "explodir           = [0.2,0.07,0.07,0.07,0.07]\n",
    "\n",
    "plt.pie(x = commodities_vendas,labels = commodities_nome,labeldistance=0.5,rotatelabels=1, explode=(explodir))\n",
    "\n",
    "plt.title('Commodities Agrícolas Vendidas em Março')\n",
    "plt.savefig(\"vendas_pie_explodida.jpg\")\n",
    "\n",
    "plt.show()"
   ]
  },
  {
   "cell_type": "code",
   "execution_count": 14,
   "id": "edb489ac",
   "metadata": {},
   "outputs": [
    {
     "data": {
      "image/png": "[encoded data removed]",
      "text/plain": [
       "<Figure size 432x288 with 1 Axes>"
      ]
     },
     "metadata": {},
     "output_type": "display_data"
    }
   ],
   "source": [
    "import matplotlib.pyplot as plt\n",
    "\n",
    "commodities_nome = [\"Trigo\",\"Soja\", \"Feijão\", \"Arroz\", \"Café\"]\n",
    "commodities_vendas = [6, 8, 4, 5, 6]\n",
    "\n",
    "circulo_central = plt.Circle(xy=(0,0),radius=0.68,color='white')\n",
    "\n",
    "\n",
    "plt.pie(x = commodities_vendas,labels = commodities_nome,autopct = \"%1.2f%%\",pctdistance=0.85)\n",
    "plt.gca().add_artist(circulo_central)\n",
    "\n",
    "plt.title('Commodities Agrícolas Vendidas em Março')\n",
    "plt.savefig(\"vendas_rosca.jpg\")\n",
    "\n",
    "plt.show()"
   ]
  },
  {
   "cell_type": "markdown",
   "id": "39a3d109",
   "metadata": {},
   "source": [
    "### 3.2.4 Gráfico de Dispersão"
   ]
  },
  {
   "cell_type": "code",
   "execution_count": 15,
   "id": "52c7c400",
   "metadata": {},
   "outputs": [
    {
     "data": {
      "image/png": "[encoded data removed]",
      "text/plain": [
       "<Figure size 432x288 with 1 Axes>"
      ]
     },
     "metadata": {
      "needs_background": "light"
     },
     "output_type": "display_data"
    }
   ],
   "source": [
    "import matplotlib.pyplot as plt\n",
    "x = [\"segunda\",\"terça\",\"quarta\",\"quinta\", \"sexta\",\"sábado\", \"domingo\"]\n",
    "y = [4, 9, 12, 25, 35, 55, 43]\n",
    "\n",
    "plt.scatter(x, y)\n",
    "\n",
    "plt.xlabel('Dias da semana')\n",
    "plt.ylabel('Picolés vendidos')\n",
    "plt.title('Picolés Vendidos por Dia da Semana')\n",
    "plt.savefig(\"vendas_picole_dispersao.jpg\")\n",
    "\n",
    "plt.show()"
   ]
  },
  {
   "cell_type": "markdown",
   "id": "ac36f9c8",
   "metadata": {},
   "source": [
    "### 3.2.5 Histograma"
   ]
  },
  {
   "cell_type": "code",
   "execution_count": 16,
   "id": "263af1ec",
   "metadata": {},
   "outputs": [
    {
     "data": {
      "image/png": "[encoded data removed]",
      "text/plain": [
       "<Figure size 432x288 with 1 Axes>"
      ]
     },
     "metadata": {
      "needs_background": "light"
     },
     "output_type": "display_data"
    }
   ],
   "source": [
    "import matplotlib.pyplot as plt\n",
    "idade = [3, 7, 8, 12, 20, 25, 33, 35, 38, 41, 42, 44, 50, 55, 68, 72]\n",
    "plt.hist(idade)\n",
    "plt.savefig(\"histograma_idade.jpg\")\n",
    "plt.show()"
   ]
  },
  {
   "cell_type": "code",
   "execution_count": 17,
   "id": "f11a1343",
   "metadata": {},
   "outputs": [
    {
     "data": {
      "image/png": "[encoded data removed]",
      "text/plain": [
       "<Figure size 432x288 with 1 Axes>"
      ]
     },
     "metadata": {
      "needs_background": "light"
     },
     "output_type": "display_data"
    }
   ],
   "source": [
    "import matplotlib.pyplot as plt\n",
    "idade = [3, 7, 8, 12, 20, 25, 33, 35, 38, 41, 42, 44, 50, 55, 68, 72]\n",
    "bins=[0,30,60]\n",
    "plt.hist(idade, bins)\n",
    "plt.savefig(\"histograma_idade_bins.jpg\")\n",
    "plt.show()"
   ]
  },
  {
   "cell_type": "code",
   "execution_count": 18,
   "id": "0f157490",
   "metadata": {},
   "outputs": [
    {
     "data": {
      "image/png": "[encoded data removed]",
      "text/plain": [
       "<Figure size 432x288 with 1 Axes>"
      ]
     },
     "metadata": {
      "needs_background": "light"
     },
     "output_type": "display_data"
    }
   ],
   "source": [
    "import matplotlib.pyplot as plt\n",
    "renda = [62, 50,90, 55, 92, 80, 84, 88, 98, 54, 72, 60,68,\n",
    "             94, 77, 86, 92, 32, 65, 86, 95]\n",
    "bins=[30,40,50,60,70,80,90,100]\n",
    "plt.hist(renda, bins, rwidth=0.8, cumulative=True)\n",
    "plt.savefig(\"histograma_cumulativo.jpg\")\n",
    "plt.show()\n"
   ]
  },
  {
   "cell_type": "markdown",
   "id": "08f2e676",
   "metadata": {},
   "source": [
    "### 3.2.6 Múltiplos gráficos com SubPlot"
   ]
  },
  {
   "cell_type": "code",
   "execution_count": 19,
   "id": "d0e09525",
   "metadata": {},
   "outputs": [
    {
     "data": {
      "image/png": "[encoded data removed]",
      "text/plain": [
       "<Figure size 432x288 with 2 Axes>"
      ]
     },
     "metadata": {
      "needs_background": "light"
     },
     "output_type": "display_data"
    }
   ],
   "source": [
    "import matplotlib.pyplot as plt\n",
    "\n",
    "idade = [3, 7, 8, 12, 20, 25, 33, 35, 38, 41, 42, 44, 50, 55, 68, 72]\n",
    "renda = [62, 50,90, 55, 92, 80, 84, 88, 98, 54, 72, 60,68, 94, 77, 86, 92, 32, 65, 86, 95]\n",
    "\n",
    "\n",
    "fig, ax = plt.subplots(2)\n",
    "fig.suptitle('2 Subplots')\n",
    "\n",
    "ax[0].plot(idade)\n",
    "ax[1].plot(renda)\n",
    "plt.savefig(\"subplots_2.jpg\")\n"
   ]
  },
  {
   "cell_type": "code",
   "execution_count": 20,
   "id": "8110014a",
   "metadata": {},
   "outputs": [
    {
     "data": {
      "image/png": "[encoded data removed]",
      "text/plain": [
       "<Figure size 432x288 with 4 Axes>"
      ]
     },
     "metadata": {
      "needs_background": "light"
     },
     "output_type": "display_data"
    }
   ],
   "source": [
    "import matplotlib.pyplot as plt\n",
    "\n",
    "x = [\"segunda\",\"terça\",\"quarta\",\"quinta\", \"sexta\",\"sábado\", \"domingo\"]\n",
    "idade   = [3, 7, 8, 12, 20, 25, 33, 35, 38, 41, 42, 44, 50, 55, 68, 72]\n",
    "renda   = [62, 50,90, 55, 92, 80, 84, 88, 98, 54, 72, 60, 68, 94, 77, 86, 92, 32, 65, 86, 95]\n",
    "picole  = [3, 8, 13, 23, 30, 53, 48]\n",
    "sorvete = [4, 9, 12, 25, 33, 58, 70]\n",
    "\n",
    "\n",
    "fig, ax = plt.subplots(2, 2)\n",
    "\n",
    "ax[0, 0].scatter(picole, x)   #linha 0, coluna 0\n",
    "ax[1, 0].bar(sorvete, x)      #linha 1, coluna 0\n",
    "ax[0, 1].hist(renda)          #linha 0, coluna 1\n",
    "ax[1, 1].plot(idade)          #linha 1, coluna 1\n",
    "plt.savefig(\"subplots_4.jpg\")\n",
    "plt.show()"
   ]
  },
  {
   "cell_type": "markdown",
   "id": "b78347cf",
   "metadata": {},
   "source": [
    "### 3.2.6 Personalização de estilos e cores "
   ]
  },
  {
   "cell_type": "code",
   "execution_count": 21,
   "id": "74512a08",
   "metadata": {},
   "outputs": [
    {
     "data": {
      "text/plain": [
       "['Solarize_Light2',\n",
       " '_classic_test_patch',\n",
       " '_mpl-gallery',\n",
       " '_mpl-gallery-nogrid',\n",
       " 'bmh',\n",
       " 'classic',\n",
       " 'dark_background',\n",
       " 'fast',\n",
       " 'fivethirtyeight',\n",
       " 'ggplot',\n",
       " 'grayscale',\n",
       " 'seaborn',\n",
       " 'seaborn-bright',\n",
       " 'seaborn-colorblind',\n",
       " 'seaborn-dark',\n",
       " 'seaborn-dark-palette',\n",
       " 'seaborn-darkgrid',\n",
       " 'seaborn-deep',\n",
       " 'seaborn-muted',\n",
       " 'seaborn-notebook',\n",
       " 'seaborn-paper',\n",
       " 'seaborn-pastel',\n",
       " 'seaborn-poster',\n",
       " 'seaborn-talk',\n",
       " 'seaborn-ticks',\n",
       " 'seaborn-white',\n",
       " 'seaborn-whitegrid',\n",
       " 'tableau-colorblind10']"
      ]
     },
     "execution_count": 21,
     "metadata": {},
     "output_type": "execute_result"
    }
   ],
   "source": [
    "plt.style.available"
   ]
  },
  {
   "cell_type": "code",
   "execution_count": 22,
   "id": "1ad23051",
   "metadata": {},
   "outputs": [
    {
     "data": {
      "image/png": "[encoded data removed]",
      "text/plain": [
       "<Figure size 432x288 with 1 Axes>"
      ]
     },
     "metadata": {},
     "output_type": "display_data"
    }
   ],
   "source": [
    "import matplotlib.pyplot as plt\n",
    "\n",
    "plt.style.use('fivethirtyeight')\n",
    "\n",
    "x = ['segunda','terça','quarta','quinta', 'sexta','sábado', 'domingo']\n",
    "y = [4, 9, 12, 25, 35, 55, 43]\n",
    "\n",
    "plt.plot(x, y)\n",
    "\n",
    "plt.xlabel('Dias da semana')\n",
    "plt.ylabel('Picolés vendidos')\n",
    "plt.title('Picolés Vendidos por Dia da Semana')\n",
    "plt.savefig(\"vendas_picole_fivethirtyeight.jpg\")\n",
    "\n",
    "plt.show()\n"
   ]
  },
  {
   "cell_type": "code",
   "execution_count": 23,
   "id": "5225f1b6",
   "metadata": {},
   "outputs": [
    {
     "data": {
      "image/png": "[encoded data removed]",
      "text/plain": [
       "<Figure size 432x288 with 1 Axes>"
      ]
     },
     "metadata": {},
     "output_type": "display_data"
    }
   ],
   "source": [
    "import matplotlib.pyplot as plt\n",
    "\n",
    "plt.style.use('fivethirtyeight')\n",
    "\n",
    "x = ['segunda','terça','quarta','quinta', 'sexta','sábado', 'domingo']\n",
    "y = [4, 9, 12, 25, 35, 55, 43]\n",
    "\n",
    "plt.plot(x, y, marker='o'\n",
    "         , color='r'\n",
    "         , linestyle='dashed'  # estilo da linha)\n",
    "         , label='Teste')  # nome do gráfico)\n",
    "            \n",
    "\n",
    "plt.xlabel('Dias da semana')\n",
    "plt.ylabel('Picolés vendidos')\n",
    "plt.title('Picolés Vendidos por Dia da Semana')\n",
    "\n",
    "plt.show()"
   ]
  },
  {
   "cell_type": "code",
   "execution_count": 24,
   "id": "1f60c72f",
   "metadata": {},
   "outputs": [
    {
     "data": {
      "image/png": "[encoded data removed]",
      "text/plain": [
       "<Figure size 432x288 with 4 Axes>"
      ]
     },
     "metadata": {},
     "output_type": "display_data"
    }
   ],
   "source": [
    "import matplotlib.pyplot as plt\n",
    "plt.style.use('tableau-colorblind10')\n",
    "idade   = [3, 7, 8, 12, 20, 25, 33, 35, 38, 41, 42, 44, 50, 55, 68, 72]\n",
    "\n",
    "\n",
    "fig, ax = plt.subplots(2, 2)\n",
    "\n",
    "ax[0, 0].plot(idade,color='red',marker='o',linewidth=1, markersize=8, markerfacecolor=\"grey\", linestyle=\"dashed\")   \n",
    "ax[1, 0].plot(idade,color='blue',marker='<', linewidth=3, markersize=8, markerfacecolor=\"red\", linestyle=\"dotted\" )     \n",
    "ax[0, 1].plot(idade,color='orange',marker='s', linewidth=4, markersize=8, markerfacecolor=\"green\", linestyle=\"dashdot\")        \n",
    "ax[1, 1].plot(idade,color='green',marker='d', linewidth=2, markersize=8, markerfacecolor=\"blue\", linestyle=\"solid\")         \n",
    "plt.savefig(\"subplots_estilo.jpg\")\n",
    "plt.show()"
   ]
  },
  {
   "cell_type": "markdown",
   "id": "e7a558e4",
   "metadata": {},
   "source": [
    "## 3.3 Pandas"
   ]
  },
  {
   "cell_type": "markdown",
   "id": "0578cbdd",
   "metadata": {},
   "source": [
    "### 3.3.1\tSeries"
   ]
  },
  {
   "cell_type": "code",
   "execution_count": 25,
   "id": "effc90ca",
   "metadata": {},
   "outputs": [
    {
     "data": {
      "text/plain": [
       "RangeIndex(start=0, stop=7, step=1)"
      ]
     },
     "metadata": {},
     "output_type": "display_data"
    },
    {
     "data": {
      "text/plain": [
       "'picolés'"
      ]
     },
     "metadata": {},
     "output_type": "display_data"
    },
    {
     "data": {
      "text/plain": [
       "dtype('int64')"
      ]
     },
     "metadata": {},
     "output_type": "display_data"
    },
    {
     "data": {
      "text/plain": [
       "array([ 4,  9, 12, 25, 35, 55, 43])"
      ]
     },
     "metadata": {},
     "output_type": "display_data"
    }
   ],
   "source": [
    "import pandas as pd\n",
    "\n",
    "picoles_vendidos = pd.Series([4, 9, 12, 25, 35, 55, 43],name='picolés')\n",
    "display(picoles_vendidos.index)\n",
    "display(picoles_vendidos.name)\n",
    "display(picoles_vendidos.dtype)\n",
    "display(picoles_vendidos.values)"
   ]
  },
  {
   "cell_type": "code",
   "execution_count": 26,
   "id": "6c7d4b11",
   "metadata": {},
   "outputs": [
    {
     "data": {
      "text/plain": [
       "RangeIndex(start=0, stop=7, step=1)"
      ]
     },
     "metadata": {},
     "output_type": "display_data"
    },
    {
     "data": {
      "text/plain": [
       "'semana'"
      ]
     },
     "metadata": {},
     "output_type": "display_data"
    },
    {
     "data": {
      "text/plain": [
       "dtype('O')"
      ]
     },
     "metadata": {},
     "output_type": "display_data"
    },
    {
     "data": {
      "text/plain": [
       "array(['domingo', 'segunda', 'terça', 'quarta', 'quinta', 'sexta',\n",
       "       'sábado'], dtype=object)"
      ]
     },
     "metadata": {},
     "output_type": "display_data"
    }
   ],
   "source": [
    "import pandas as pd\n",
    "\n",
    "dias_da_semana = pd.Series(['domingo', 'segunda', 'terça', 'quarta', 'quinta', 'sexta', 'sábado'], name='semana')\n",
    "display(dias_da_semana.index)\n",
    "display(dias_da_semana.name)\n",
    "display(dias_da_semana.dtype)\n",
    "display(dias_da_semana.values)"
   ]
  },
  {
   "cell_type": "code",
   "execution_count": 27,
   "id": "bffd577d",
   "metadata": {},
   "outputs": [
    {
     "data": {
      "text/plain": [
       "dtype('O')"
      ]
     },
     "metadata": {},
     "output_type": "display_data"
    },
    {
     "data": {
      "text/plain": [
       "string[python]"
      ]
     },
     "metadata": {},
     "output_type": "display_data"
    },
    {
     "data": {
      "text/plain": [
       "dtype('int64')"
      ]
     },
     "metadata": {},
     "output_type": "display_data"
    },
    {
     "data": {
      "text/plain": [
       "dtype('float64')"
      ]
     },
     "metadata": {},
     "output_type": "display_data"
    },
    {
     "data": {
      "text/plain": [
       "dtype('<M8[ns]')"
      ]
     },
     "metadata": {},
     "output_type": "display_data"
    },
    {
     "data": {
      "text/plain": [
       "dtype('bool')"
      ]
     },
     "metadata": {},
     "output_type": "display_data"
    },
    {
     "data": {
      "text/plain": [
       "0   2022-03-18\n",
       "1   2019-05-12\n",
       "2   2005-01-14\n",
       "dtype: datetime64[ns]"
      ]
     },
     "metadata": {},
     "output_type": "display_data"
    }
   ],
   "source": [
    "import pandas as pd\n",
    "\n",
    "teste = pd.Series(['abc',12, 3.44])\n",
    "teste_strings = pd.Series(['a', 'abc', 'xyz'],dtype='string')\n",
    "teste_int = pd.Series([10, 23, -44],dtype='int64')\n",
    "teste_float = pd.Series([1.4, -4.9, 3.78],dtype='float64')\n",
    "teste_bool = pd.Series([True, False, True],dtype='bool')\n",
    "\n",
    "data1 = pd.Timestamp(2022, 3, 18)\n",
    "data2 = pd.Timestamp(2019, 5, 12)\n",
    "data3 = pd.Timestamp(2005, 1, 14)\n",
    "\n",
    "datas = pd.to_datetime([data1, data2, data3])\n",
    "\n",
    "teste_data = pd.Series(datas)\n",
    "\n",
    "display(teste.dtype)\n",
    "display(teste_strings.dtype)\n",
    "display(teste_int.dtype)\n",
    "display(teste_float.dtype)\n",
    "display(teste_data.dtype)\n",
    "display(teste_bool.dtype)\n",
    "display(teste_data)\n"
   ]
  },
  {
   "cell_type": "markdown",
   "id": "65e8e472",
   "metadata": {},
   "source": [
    "### 3.3.2\tDataframes"
   ]
  },
  {
   "cell_type": "code",
   "execution_count": 28,
   "id": "6d0314a9",
   "metadata": {},
   "outputs": [
    {
     "data": {
      "text/html": [
       "<div>\n",
       "<style scoped>\n",
       "    .dataframe tbody tr th:only-of-type {\n",
       "        vertical-align: middle;\n",
       "    }\n",
       "\n",
       "    .dataframe tbody tr th {\n",
       "        vertical-align: top;\n",
       "    }\n",
       "\n",
       "    .dataframe thead th {\n",
       "        text-align: right;\n",
       "    }\n",
       "</style>\n",
       "<table border=\"1\" class=\"dataframe\">\n",
       "  <thead>\n",
       "    <tr style=\"text-align: right;\">\n",
       "      <th></th>\n",
       "      <th>Dias da semana</th>\n",
       "      <th>Picolés vendidos</th>\n",
       "    </tr>\n",
       "  </thead>\n",
       "  <tbody>\n",
       "    <tr>\n",
       "      <th>0</th>\n",
       "      <td>domingo</td>\n",
       "      <td>4</td>\n",
       "    </tr>\n",
       "    <tr>\n",
       "      <th>1</th>\n",
       "      <td>segunda</td>\n",
       "      <td>9</td>\n",
       "    </tr>\n",
       "    <tr>\n",
       "      <th>2</th>\n",
       "      <td>terça</td>\n",
       "      <td>12</td>\n",
       "    </tr>\n",
       "    <tr>\n",
       "      <th>3</th>\n",
       "      <td>quarta</td>\n",
       "      <td>25</td>\n",
       "    </tr>\n",
       "    <tr>\n",
       "      <th>4</th>\n",
       "      <td>quinta</td>\n",
       "      <td>35</td>\n",
       "    </tr>\n",
       "    <tr>\n",
       "      <th>5</th>\n",
       "      <td>sexta</td>\n",
       "      <td>55</td>\n",
       "    </tr>\n",
       "    <tr>\n",
       "      <th>6</th>\n",
       "      <td>sábado</td>\n",
       "      <td>43</td>\n",
       "    </tr>\n",
       "  </tbody>\n",
       "</table>\n",
       "</div>"
      ],
      "text/plain": [
       "  Dias da semana  Picolés vendidos\n",
       "0        domingo                 4\n",
       "1        segunda                 9\n",
       "2          terça                12\n",
       "3         quarta                25\n",
       "4         quinta                35\n",
       "5          sexta                55\n",
       "6         sábado                43"
      ]
     },
     "execution_count": 28,
     "metadata": {},
     "output_type": "execute_result"
    }
   ],
   "source": [
    "import pandas as pd\n",
    "\n",
    "dias_da_semana = pd.Series(['domingo', 'segunda', 'terça', 'quarta', 'quinta', 'sexta', 'sábado'])\n",
    "picoles_vendidos = pd.Series([4, 9, 12, 25, 35, 55, 43])\n",
    "dados = pd.DataFrame({\"Dias da semana\": dias_da_semana,\"Picolés vendidos\": picoles_vendidos})\n",
    "dados\n"
   ]
  },
  {
   "cell_type": "code",
   "execution_count": 29,
   "id": "6118e2fe",
   "metadata": {},
   "outputs": [
    {
     "name": "stdout",
     "output_type": "stream",
     "text": [
      "Figura 1.1 — Componentes de um DataFrame.\n"
     ]
    },
    {
     "data": {
      "image/jpeg": "[encoded data removed]",
      "text/plain": [
       "<IPython.core.display.Image object>"
      ]
     },
     "execution_count": 29,
     "metadata": {
      "image/jpeg": {
       "width": 600
      }
     },
     "output_type": "execute_result"
    }
   ],
   "source": [
    "print('Figura 1.1 — Componentes de um DataFrame.')\n",
    "from IPython.display import Image\n",
    "Image(filename = \"Imagens/dataframe.jpg\", width = 600)"
   ]
  },
  {
   "cell_type": "code",
   "execution_count": 30,
   "id": "448dc123",
   "metadata": {},
   "outputs": [
    {
     "data": {
      "text/html": [
       "<div>\n",
       "<style scoped>\n",
       "    .dataframe tbody tr th:only-of-type {\n",
       "        vertical-align: middle;\n",
       "    }\n",
       "\n",
       "    .dataframe tbody tr th {\n",
       "        vertical-align: top;\n",
       "    }\n",
       "\n",
       "    .dataframe thead th {\n",
       "        text-align: right;\n",
       "    }\n",
       "</style>\n",
       "<table border=\"1\" class=\"dataframe\">\n",
       "  <thead>\n",
       "    <tr style=\"text-align: right;\">\n",
       "      <th></th>\n",
       "      <th>Dias da semana</th>\n",
       "      <th>Picolés vendidos</th>\n",
       "    </tr>\n",
       "  </thead>\n",
       "  <tbody>\n",
       "    <tr>\n",
       "      <th>0</th>\n",
       "      <td>domingo</td>\n",
       "      <td>4</td>\n",
       "    </tr>\n",
       "    <tr>\n",
       "      <th>1</th>\n",
       "      <td>segunda</td>\n",
       "      <td>9</td>\n",
       "    </tr>\n",
       "    <tr>\n",
       "      <th>2</th>\n",
       "      <td>terça</td>\n",
       "      <td>12</td>\n",
       "    </tr>\n",
       "    <tr>\n",
       "      <th>3</th>\n",
       "      <td>quarta</td>\n",
       "      <td>25</td>\n",
       "    </tr>\n",
       "    <tr>\n",
       "      <th>4</th>\n",
       "      <td>quinta</td>\n",
       "      <td>35</td>\n",
       "    </tr>\n",
       "    <tr>\n",
       "      <th>5</th>\n",
       "      <td>sexta</td>\n",
       "      <td>55</td>\n",
       "    </tr>\n",
       "    <tr>\n",
       "      <th>6</th>\n",
       "      <td>sábado</td>\n",
       "      <td>43</td>\n",
       "    </tr>\n",
       "  </tbody>\n",
       "</table>\n",
       "</div>"
      ],
      "text/plain": [
       "  Dias da semana  Picolés vendidos\n",
       "0        domingo                 4\n",
       "1        segunda                 9\n",
       "2          terça                12\n",
       "3         quarta                25\n",
       "4         quinta                35\n",
       "5          sexta                55\n",
       "6         sábado                43"
      ]
     },
     "execution_count": 30,
     "metadata": {},
     "output_type": "execute_result"
    }
   ],
   "source": [
    "import pandas as pd\n",
    "\n",
    "dados = pd.DataFrame({\"Dias da semana\": ['domingo', 'segunda', 'terça', 'quarta', 'quinta', 'sexta', 'sábado'],\"Picolés vendidos\": [4, 9, 12, 25, 35, 55, 43]})\n",
    "dados"
   ]
  },
  {
   "cell_type": "code",
   "execution_count": 31,
   "id": "629a0ab5",
   "metadata": {},
   "outputs": [
    {
     "data": {
      "text/html": [
       "<div>\n",
       "<style scoped>\n",
       "    .dataframe tbody tr th:only-of-type {\n",
       "        vertical-align: middle;\n",
       "    }\n",
       "\n",
       "    .dataframe tbody tr th {\n",
       "        vertical-align: top;\n",
       "    }\n",
       "\n",
       "    .dataframe thead th {\n",
       "        text-align: right;\n",
       "    }\n",
       "</style>\n",
       "<table border=\"1\" class=\"dataframe\">\n",
       "  <thead>\n",
       "    <tr style=\"text-align: right;\">\n",
       "      <th></th>\n",
       "      <th>0</th>\n",
       "    </tr>\n",
       "  </thead>\n",
       "  <tbody>\n",
       "    <tr>\n",
       "      <th>4</th>\n",
       "      <td>domingo</td>\n",
       "    </tr>\n",
       "    <tr>\n",
       "      <th>9</th>\n",
       "      <td>segunda</td>\n",
       "    </tr>\n",
       "    <tr>\n",
       "      <th>12</th>\n",
       "      <td>terça</td>\n",
       "    </tr>\n",
       "    <tr>\n",
       "      <th>25</th>\n",
       "      <td>quarta</td>\n",
       "    </tr>\n",
       "    <tr>\n",
       "      <th>35</th>\n",
       "      <td>quinta</td>\n",
       "    </tr>\n",
       "    <tr>\n",
       "      <th>55</th>\n",
       "      <td>sexta</td>\n",
       "    </tr>\n",
       "    <tr>\n",
       "      <th>43</th>\n",
       "      <td>sábado</td>\n",
       "    </tr>\n",
       "  </tbody>\n",
       "</table>\n",
       "</div>"
      ],
      "text/plain": [
       "          0\n",
       "4   domingo\n",
       "9   segunda\n",
       "12    terça\n",
       "25   quarta\n",
       "35   quinta\n",
       "55    sexta\n",
       "43   sábado"
      ]
     },
     "execution_count": 31,
     "metadata": {},
     "output_type": "execute_result"
    }
   ],
   "source": [
    "import pandas as pd\n",
    "\n",
    "dados = pd.DataFrame(['domingo', 'segunda', 'terça', 'quarta', 'quinta', 'sexta', 'sábado'],[4, 9, 12, 25, 35, 55, 43])\n",
    "dados"
   ]
  },
  {
   "cell_type": "markdown",
   "id": "ca19aac9",
   "metadata": {},
   "source": [
    "### 3.3.3 Carregamento de Arquivos "
   ]
  },
  {
   "cell_type": "code",
   "execution_count": 32,
   "id": "2274c844",
   "metadata": {},
   "outputs": [
    {
     "data": {
      "text/html": [
       "<div>\n",
       "<style scoped>\n",
       "    .dataframe tbody tr th:only-of-type {\n",
       "        vertical-align: middle;\n",
       "    }\n",
       "\n",
       "    .dataframe tbody tr th {\n",
       "        vertical-align: top;\n",
       "    }\n",
       "\n",
       "    .dataframe thead th {\n",
       "        text-align: right;\n",
       "    }\n",
       "</style>\n",
       "<table border=\"1\" class=\"dataframe\">\n",
       "  <thead>\n",
       "    <tr style=\"text-align: right;\">\n",
       "      <th></th>\n",
       "      <th>id</th>\n",
       "      <th>nome</th>\n",
       "      <th>idade</th>\n",
       "    </tr>\n",
       "  </thead>\n",
       "  <tbody>\n",
       "    <tr>\n",
       "      <th>0</th>\n",
       "      <td>5</td>\n",
       "      <td>Pedro</td>\n",
       "      <td>23</td>\n",
       "    </tr>\n",
       "    <tr>\n",
       "      <th>1</th>\n",
       "      <td>7</td>\n",
       "      <td>Maria</td>\n",
       "      <td>28</td>\n",
       "    </tr>\n",
       "    <tr>\n",
       "      <th>2</th>\n",
       "      <td>10</td>\n",
       "      <td>Paulo</td>\n",
       "      <td>54</td>\n",
       "    </tr>\n",
       "    <tr>\n",
       "      <th>3</th>\n",
       "      <td>15</td>\n",
       "      <td>Henrique</td>\n",
       "      <td>32</td>\n",
       "    </tr>\n",
       "  </tbody>\n",
       "</table>\n",
       "</div>"
      ],
      "text/plain": [
       "   id      nome  idade\n",
       "0   5     Pedro     23\n",
       "1   7     Maria     28\n",
       "2  10     Paulo     54\n",
       "3  15  Henrique     32"
      ]
     },
     "execution_count": 32,
     "metadata": {},
     "output_type": "execute_result"
    }
   ],
   "source": [
    "import pandas as pd \n",
    "df = pd.read_csv('dados/pessoas.csv',sep=',',encoding='UTF-8',header='infer',quotechar='\"')\n",
    "df"
   ]
  },
  {
   "cell_type": "code",
   "execution_count": 33,
   "id": "b77596ed",
   "metadata": {},
   "outputs": [
    {
     "data": {
      "text/html": [
       "<div>\n",
       "<style scoped>\n",
       "    .dataframe tbody tr th:only-of-type {\n",
       "        vertical-align: middle;\n",
       "    }\n",
       "\n",
       "    .dataframe tbody tr th {\n",
       "        vertical-align: top;\n",
       "    }\n",
       "\n",
       "    .dataframe thead th {\n",
       "        text-align: right;\n",
       "    }\n",
       "</style>\n",
       "<table border=\"1\" class=\"dataframe\">\n",
       "  <thead>\n",
       "    <tr style=\"text-align: right;\">\n",
       "      <th></th>\n",
       "      <th>id</th>\n",
       "      <th>nome</th>\n",
       "      <th>idade</th>\n",
       "    </tr>\n",
       "  </thead>\n",
       "  <tbody>\n",
       "    <tr>\n",
       "      <th>0</th>\n",
       "      <td>5</td>\n",
       "      <td>Pedro</td>\n",
       "      <td>23</td>\n",
       "    </tr>\n",
       "    <tr>\n",
       "      <th>1</th>\n",
       "      <td>7</td>\n",
       "      <td>Maria</td>\n",
       "      <td>28</td>\n",
       "    </tr>\n",
       "    <tr>\n",
       "      <th>2</th>\n",
       "      <td>10</td>\n",
       "      <td>Paulo</td>\n",
       "      <td>54</td>\n",
       "    </tr>\n",
       "    <tr>\n",
       "      <th>3</th>\n",
       "      <td>15</td>\n",
       "      <td>Henrique</td>\n",
       "      <td>32</td>\n",
       "    </tr>\n",
       "  </tbody>\n",
       "</table>\n",
       "</div>"
      ],
      "text/plain": [
       "   id      nome  idade\n",
       "0   5     Pedro     23\n",
       "1   7     Maria     28\n",
       "2  10     Paulo     54\n",
       "3  15  Henrique     32"
      ]
     },
     "execution_count": 33,
     "metadata": {},
     "output_type": "execute_result"
    }
   ],
   "source": [
    "import pandas as pd \n",
    "df = pd.read_excel('dados/pessoas.xlsx',header='infer')\n",
    "df"
   ]
  },
  {
   "cell_type": "code",
   "execution_count": 34,
   "id": "41f03a00",
   "metadata": {},
   "outputs": [],
   "source": [
    "# Salvar em arquivo CSV\n",
    "df.to_csv('resultado.csv')"
   ]
  },
  {
   "cell_type": "code",
   "execution_count": 35,
   "id": "d9aeddd1",
   "metadata": {},
   "outputs": [],
   "source": [
    "# Salvar em arquivo HTML\n",
    "df.to_html('resultado.html')"
   ]
  },
  {
   "cell_type": "code",
   "execution_count": 36,
   "id": "223a1cd4",
   "metadata": {},
   "outputs": [],
   "source": [
    "# Salvar em arquivo XML\n",
    "df.to_xml('resultado.xml')"
   ]
  },
  {
   "cell_type": "code",
   "execution_count": 37,
   "id": "9f40304a",
   "metadata": {},
   "outputs": [],
   "source": [
    "# Salvar em arquivo JSON\n",
    "df.to_json('resultado.json')"
   ]
  },
  {
   "cell_type": "markdown",
   "id": "5138396d",
   "metadata": {},
   "source": [
    "### 3.3.4 Manipulação de DataFrames"
   ]
  },
  {
   "cell_type": "code",
   "execution_count": 38,
   "id": "67e3a25e",
   "metadata": {},
   "outputs": [
    {
     "data": {
      "text/html": [
       "<div>\n",
       "<style scoped>\n",
       "    .dataframe tbody tr th:only-of-type {\n",
       "        vertical-align: middle;\n",
       "    }\n",
       "\n",
       "    .dataframe tbody tr th {\n",
       "        vertical-align: top;\n",
       "    }\n",
       "\n",
       "    .dataframe thead th {\n",
       "        text-align: right;\n",
       "    }\n",
       "</style>\n",
       "<table border=\"1\" class=\"dataframe\">\n",
       "  <thead>\n",
       "    <tr style=\"text-align: right;\">\n",
       "      <th></th>\n",
       "      <th>Nome</th>\n",
       "      <th>Marca</th>\n",
       "      <th>Categoria</th>\n",
       "      <th>Preço</th>\n",
       "      <th>Vendas</th>\n",
       "    </tr>\n",
       "  </thead>\n",
       "  <tbody>\n",
       "    <tr>\n",
       "      <th>0</th>\n",
       "      <td>Queijo</td>\n",
       "      <td>Do Bom</td>\n",
       "      <td>Alimentação</td>\n",
       "      <td>5.5</td>\n",
       "      <td>23</td>\n",
       "    </tr>\n",
       "    <tr>\n",
       "      <th>1</th>\n",
       "      <td>Presunto</td>\n",
       "      <td>Dele</td>\n",
       "      <td>Alimentação</td>\n",
       "      <td>6.5</td>\n",
       "      <td>18</td>\n",
       "    </tr>\n",
       "    <tr>\n",
       "      <th>2</th>\n",
       "      <td>Balde</td>\n",
       "      <td>AZ</td>\n",
       "      <td>Limpeza</td>\n",
       "      <td>5.2</td>\n",
       "      <td>12</td>\n",
       "    </tr>\n",
       "    <tr>\n",
       "      <th>3</th>\n",
       "      <td>Biscoito</td>\n",
       "      <td>Real</td>\n",
       "      <td>Alimentação</td>\n",
       "      <td>2.5</td>\n",
       "      <td>25</td>\n",
       "    </tr>\n",
       "    <tr>\n",
       "      <th>4</th>\n",
       "      <td>Pilha AA</td>\n",
       "      <td>Tecno</td>\n",
       "      <td>Ferragem</td>\n",
       "      <td>7.0</td>\n",
       "      <td>15</td>\n",
       "    </tr>\n",
       "    <tr>\n",
       "      <th>5</th>\n",
       "      <td>Lâmpada</td>\n",
       "      <td>Ilumina</td>\n",
       "      <td>Ferragem</td>\n",
       "      <td>5.0</td>\n",
       "      <td>30</td>\n",
       "    </tr>\n",
       "    <tr>\n",
       "      <th>6</th>\n",
       "      <td>Arroz</td>\n",
       "      <td>Coma Bem</td>\n",
       "      <td>Alimentação</td>\n",
       "      <td>7.5</td>\n",
       "      <td>28</td>\n",
       "    </tr>\n",
       "    <tr>\n",
       "      <th>7</th>\n",
       "      <td>Feijão</td>\n",
       "      <td>Sabor</td>\n",
       "      <td>Alimenta</td>\n",
       "      <td>6.5</td>\n",
       "      <td>34</td>\n",
       "    </tr>\n",
       "    <tr>\n",
       "      <th>4</th>\n",
       "      <td>Pilha AA</td>\n",
       "      <td>Tecno</td>\n",
       "      <td>Ferragem</td>\n",
       "      <td>7.0</td>\n",
       "      <td>15</td>\n",
       "    </tr>\n",
       "    <tr>\n",
       "      <th>5</th>\n",
       "      <td>Lâmpada</td>\n",
       "      <td>Ilumina</td>\n",
       "      <td>Ferragem</td>\n",
       "      <td>5.0</td>\n",
       "      <td>30</td>\n",
       "    </tr>\n",
       "  </tbody>\n",
       "</table>\n",
       "</div>"
      ],
      "text/plain": [
       "       Nome     Marca    Categoria  Preço  Vendas\n",
       "0    Queijo    Do Bom  Alimentação    5.5      23\n",
       "1  Presunto      Dele  Alimentação    6.5      18\n",
       "2     Balde        AZ      Limpeza    5.2      12\n",
       "3  Biscoito      Real  Alimentação    2.5      25\n",
       "4  Pilha AA     Tecno     Ferragem    7.0      15\n",
       "5   Lâmpada   Ilumina     Ferragem    5.0      30\n",
       "6     Arroz  Coma Bem  Alimentação    7.5      28\n",
       "7    Feijão     Sabor     Alimenta    6.5      34\n",
       "4  Pilha AA     Tecno     Ferragem    7.0      15\n",
       "5   Lâmpada   Ilumina     Ferragem    5.0      30"
      ]
     },
     "execution_count": 38,
     "metadata": {},
     "output_type": "execute_result"
    }
   ],
   "source": [
    "import pandas as pd\n",
    "\n",
    "nome = pd.Series(['Queijo', 'Presunto', 'Balde', 'Biscoito', 'Pilha AA', 'Lâmpada', 'Arroz','Feijão','Cafeteira','TV'])\n",
    "marca = pd.Series(['Do Bom', 'Dele', 'AZ', 'Real', 'Tecno', 'Ilumina', 'Coma Bem', 'Sabor', 'AWI', 'Sofisticada'])\n",
    "categoria = pd.Series(['Alimentação', 'Alimentação', 'Limpeza', 'Alimentação', 'Ferragem', 'Ferragem', 'Alimentação','Alimenta','Eletrodoméstico','Eletrodoméstico'])\n",
    "preco = pd.Series([5.50, 6.50, 5.20, 2.50, 7, 5, 7.50, 6.50, 110, 1200])\n",
    "vendas = pd.Series([23, 18, 12, 25, 15, 30, 28, 34, 12, 5])\n",
    "\n",
    "indice = [0, 1, 2, 3, 4, 5, 6, 7, 4, 5]\n",
    "\n",
    "produtos = pd.DataFrame({\"Nome\": nome,\"Marca\": marca,\"Categoria\": categoria,\"Preço\": preco,\"Vendas\": vendas }, index=indice)\n",
    "produtos"
   ]
  },
  {
   "cell_type": "markdown",
   "id": "d7637786",
   "metadata": {},
   "source": [
    "### 3.3.5 Obtendo Informações dos DataFrames"
   ]
  },
  {
   "cell_type": "code",
   "execution_count": 39,
   "id": "4f29af7c",
   "metadata": {},
   "outputs": [
    {
     "name": "stdout",
     "output_type": "stream",
     "text": [
      "<class 'pandas.core.frame.DataFrame'>\n",
      "Int64Index: 10 entries, 0 to 5\n",
      "Data columns (total 5 columns):\n",
      " #   Column     Non-Null Count  Dtype  \n",
      "---  ------     --------------  -----  \n",
      " 0   Nome       10 non-null     object \n",
      " 1   Marca      10 non-null     object \n",
      " 2   Categoria  10 non-null     object \n",
      " 3   Preço      10 non-null     float64\n",
      " 4   Vendas     10 non-null     int64  \n",
      "dtypes: float64(1), int64(1), object(3)\n",
      "memory usage: 480.0+ bytes\n"
     ]
    }
   ],
   "source": [
    "produtos.info()"
   ]
  },
  {
   "cell_type": "code",
   "execution_count": 40,
   "id": "ba9b7834",
   "metadata": {},
   "outputs": [
    {
     "data": {
      "text/html": [
       "<div>\n",
       "<style scoped>\n",
       "    .dataframe tbody tr th:only-of-type {\n",
       "        vertical-align: middle;\n",
       "    }\n",
       "\n",
       "    .dataframe tbody tr th {\n",
       "        vertical-align: top;\n",
       "    }\n",
       "\n",
       "    .dataframe thead th {\n",
       "        text-align: right;\n",
       "    }\n",
       "</style>\n",
       "<table border=\"1\" class=\"dataframe\">\n",
       "  <thead>\n",
       "    <tr style=\"text-align: right;\">\n",
       "      <th></th>\n",
       "      <th>Preço</th>\n",
       "      <th>Vendas</th>\n",
       "    </tr>\n",
       "  </thead>\n",
       "  <tbody>\n",
       "    <tr>\n",
       "      <th>count</th>\n",
       "      <td>10.000000</td>\n",
       "      <td>10.000000</td>\n",
       "    </tr>\n",
       "    <tr>\n",
       "      <th>mean</th>\n",
       "      <td>5.770000</td>\n",
       "      <td>23.000000</td>\n",
       "    </tr>\n",
       "    <tr>\n",
       "      <th>std</th>\n",
       "      <td>1.466705</td>\n",
       "      <td>7.615773</td>\n",
       "    </tr>\n",
       "    <tr>\n",
       "      <th>min</th>\n",
       "      <td>2.500000</td>\n",
       "      <td>12.000000</td>\n",
       "    </tr>\n",
       "    <tr>\n",
       "      <th>25%</th>\n",
       "      <td>5.050000</td>\n",
       "      <td>15.750000</td>\n",
       "    </tr>\n",
       "    <tr>\n",
       "      <th>50%</th>\n",
       "      <td>6.000000</td>\n",
       "      <td>24.000000</td>\n",
       "    </tr>\n",
       "    <tr>\n",
       "      <th>75%</th>\n",
       "      <td>6.875000</td>\n",
       "      <td>29.500000</td>\n",
       "    </tr>\n",
       "    <tr>\n",
       "      <th>max</th>\n",
       "      <td>7.500000</td>\n",
       "      <td>34.000000</td>\n",
       "    </tr>\n",
       "  </tbody>\n",
       "</table>\n",
       "</div>"
      ],
      "text/plain": [
       "           Preço     Vendas\n",
       "count  10.000000  10.000000\n",
       "mean    5.770000  23.000000\n",
       "std     1.466705   7.615773\n",
       "min     2.500000  12.000000\n",
       "25%     5.050000  15.750000\n",
       "50%     6.000000  24.000000\n",
       "75%     6.875000  29.500000\n",
       "max     7.500000  34.000000"
      ]
     },
     "execution_count": 40,
     "metadata": {},
     "output_type": "execute_result"
    }
   ],
   "source": [
    "produtos.describe()"
   ]
  },
  {
   "cell_type": "code",
   "execution_count": 41,
   "id": "8f06a3e0",
   "metadata": {},
   "outputs": [
    {
     "data": {
      "text/html": [
       "<div>\n",
       "<style scoped>\n",
       "    .dataframe tbody tr th:only-of-type {\n",
       "        vertical-align: middle;\n",
       "    }\n",
       "\n",
       "    .dataframe tbody tr th {\n",
       "        vertical-align: top;\n",
       "    }\n",
       "\n",
       "    .dataframe thead th {\n",
       "        text-align: right;\n",
       "    }\n",
       "</style>\n",
       "<table border=\"1\" class=\"dataframe\">\n",
       "  <thead>\n",
       "    <tr style=\"text-align: right;\">\n",
       "      <th>Categoria</th>\n",
       "      <th>Alimenta</th>\n",
       "      <th>Alimentação</th>\n",
       "      <th>Ferragem</th>\n",
       "      <th>Limpeza</th>\n",
       "    </tr>\n",
       "    <tr>\n",
       "      <th>Nome</th>\n",
       "      <th></th>\n",
       "      <th></th>\n",
       "      <th></th>\n",
       "      <th></th>\n",
       "    </tr>\n",
       "  </thead>\n",
       "  <tbody>\n",
       "    <tr>\n",
       "      <th>Arroz</th>\n",
       "      <td>0</td>\n",
       "      <td>1</td>\n",
       "      <td>0</td>\n",
       "      <td>0</td>\n",
       "    </tr>\n",
       "    <tr>\n",
       "      <th>Balde</th>\n",
       "      <td>0</td>\n",
       "      <td>0</td>\n",
       "      <td>0</td>\n",
       "      <td>1</td>\n",
       "    </tr>\n",
       "    <tr>\n",
       "      <th>Biscoito</th>\n",
       "      <td>0</td>\n",
       "      <td>1</td>\n",
       "      <td>0</td>\n",
       "      <td>0</td>\n",
       "    </tr>\n",
       "    <tr>\n",
       "      <th>Feijão</th>\n",
       "      <td>1</td>\n",
       "      <td>0</td>\n",
       "      <td>0</td>\n",
       "      <td>0</td>\n",
       "    </tr>\n",
       "    <tr>\n",
       "      <th>Lâmpada</th>\n",
       "      <td>0</td>\n",
       "      <td>0</td>\n",
       "      <td>2</td>\n",
       "      <td>0</td>\n",
       "    </tr>\n",
       "    <tr>\n",
       "      <th>Pilha AA</th>\n",
       "      <td>0</td>\n",
       "      <td>0</td>\n",
       "      <td>2</td>\n",
       "      <td>0</td>\n",
       "    </tr>\n",
       "    <tr>\n",
       "      <th>Presunto</th>\n",
       "      <td>0</td>\n",
       "      <td>1</td>\n",
       "      <td>0</td>\n",
       "      <td>0</td>\n",
       "    </tr>\n",
       "    <tr>\n",
       "      <th>Queijo</th>\n",
       "      <td>0</td>\n",
       "      <td>1</td>\n",
       "      <td>0</td>\n",
       "      <td>0</td>\n",
       "    </tr>\n",
       "  </tbody>\n",
       "</table>\n",
       "</div>"
      ],
      "text/plain": [
       "Categoria  Alimenta  Alimentação  Ferragem  Limpeza\n",
       "Nome                                               \n",
       "Arroz             0            1         0        0\n",
       "Balde             0            0         0        1\n",
       "Biscoito          0            1         0        0\n",
       "Feijão            1            0         0        0\n",
       "Lâmpada           0            0         2        0\n",
       "Pilha AA          0            0         2        0\n",
       "Presunto          0            1         0        0\n",
       "Queijo            0            1         0        0"
      ]
     },
     "execution_count": 41,
     "metadata": {},
     "output_type": "execute_result"
    }
   ],
   "source": [
    "# Comparar colunas Nome e Categoria\n",
    "pd.crosstab(produtos['Nome'], produtos['Categoria'])"
   ]
  },
  {
   "cell_type": "markdown",
   "id": "b1d103ed",
   "metadata": {},
   "source": [
    "### 3.3.6 Manipulando Colunas dos DataFrames"
   ]
  },
  {
   "cell_type": "code",
   "execution_count": 42,
   "id": "7de77985",
   "metadata": {},
   "outputs": [
    {
     "data": {
      "text/plain": [
       "0      Queijo\n",
       "1    Presunto\n",
       "2       Balde\n",
       "3    Biscoito\n",
       "4    Pilha AA\n",
       "5     Lâmpada\n",
       "6       Arroz\n",
       "7      Feijão\n",
       "4    Pilha AA\n",
       "5     Lâmpada\n",
       "Name: Nome, dtype: object"
      ]
     },
     "execution_count": 42,
     "metadata": {},
     "output_type": "execute_result"
    }
   ],
   "source": [
    "# Exibe uma coluna\n",
    "produtos['Nome']"
   ]
  },
  {
   "cell_type": "code",
   "execution_count": 43,
   "id": "8cae32b7",
   "metadata": {},
   "outputs": [
    {
     "data": {
      "text/html": [
       "<div>\n",
       "<style scoped>\n",
       "    .dataframe tbody tr th:only-of-type {\n",
       "        vertical-align: middle;\n",
       "    }\n",
       "\n",
       "    .dataframe tbody tr th {\n",
       "        vertical-align: top;\n",
       "    }\n",
       "\n",
       "    .dataframe thead th {\n",
       "        text-align: right;\n",
       "    }\n",
       "</style>\n",
       "<table border=\"1\" class=\"dataframe\">\n",
       "  <thead>\n",
       "    <tr style=\"text-align: right;\">\n",
       "      <th></th>\n",
       "      <th>Nome</th>\n",
       "      <th>Marca</th>\n",
       "      <th>Categoria</th>\n",
       "      <th>Preço</th>\n",
       "      <th>Vendas</th>\n",
       "      <th>Cliente</th>\n",
       "    </tr>\n",
       "  </thead>\n",
       "  <tbody>\n",
       "    <tr>\n",
       "      <th>0</th>\n",
       "      <td>Queijo</td>\n",
       "      <td>Do Bom</td>\n",
       "      <td>Alimentação</td>\n",
       "      <td>5.5</td>\n",
       "      <td>23</td>\n",
       "      <td>50</td>\n",
       "    </tr>\n",
       "    <tr>\n",
       "      <th>1</th>\n",
       "      <td>Presunto</td>\n",
       "      <td>Dele</td>\n",
       "      <td>Alimentação</td>\n",
       "      <td>6.5</td>\n",
       "      <td>18</td>\n",
       "      <td>45</td>\n",
       "    </tr>\n",
       "    <tr>\n",
       "      <th>2</th>\n",
       "      <td>Balde</td>\n",
       "      <td>AZ</td>\n",
       "      <td>Limpeza</td>\n",
       "      <td>5.2</td>\n",
       "      <td>12</td>\n",
       "      <td>23</td>\n",
       "    </tr>\n",
       "    <tr>\n",
       "      <th>3</th>\n",
       "      <td>Biscoito</td>\n",
       "      <td>Real</td>\n",
       "      <td>Alimentação</td>\n",
       "      <td>2.5</td>\n",
       "      <td>25</td>\n",
       "      <td>68</td>\n",
       "    </tr>\n",
       "    <tr>\n",
       "      <th>4</th>\n",
       "      <td>Pilha AA</td>\n",
       "      <td>Tecno</td>\n",
       "      <td>Ferragem</td>\n",
       "      <td>7.0</td>\n",
       "      <td>15</td>\n",
       "      <td>5</td>\n",
       "    </tr>\n",
       "    <tr>\n",
       "      <th>5</th>\n",
       "      <td>Lâmpada</td>\n",
       "      <td>Ilumina</td>\n",
       "      <td>Ferragem</td>\n",
       "      <td>5.0</td>\n",
       "      <td>30</td>\n",
       "      <td>6</td>\n",
       "    </tr>\n",
       "    <tr>\n",
       "      <th>6</th>\n",
       "      <td>Arroz</td>\n",
       "      <td>Coma Bem</td>\n",
       "      <td>Alimentação</td>\n",
       "      <td>7.5</td>\n",
       "      <td>28</td>\n",
       "      <td>8</td>\n",
       "    </tr>\n",
       "    <tr>\n",
       "      <th>7</th>\n",
       "      <td>Feijão</td>\n",
       "      <td>Sabor</td>\n",
       "      <td>Alimenta</td>\n",
       "      <td>6.5</td>\n",
       "      <td>34</td>\n",
       "      <td>98</td>\n",
       "    </tr>\n",
       "    <tr>\n",
       "      <th>4</th>\n",
       "      <td>Pilha AA</td>\n",
       "      <td>Tecno</td>\n",
       "      <td>Ferragem</td>\n",
       "      <td>7.0</td>\n",
       "      <td>15</td>\n",
       "      <td>84</td>\n",
       "    </tr>\n",
       "    <tr>\n",
       "      <th>5</th>\n",
       "      <td>Lâmpada</td>\n",
       "      <td>Ilumina</td>\n",
       "      <td>Ferragem</td>\n",
       "      <td>5.0</td>\n",
       "      <td>30</td>\n",
       "      <td>32</td>\n",
       "    </tr>\n",
       "  </tbody>\n",
       "</table>\n",
       "</div>"
      ],
      "text/plain": [
       "       Nome     Marca    Categoria  Preço  Vendas  Cliente\n",
       "0    Queijo    Do Bom  Alimentação    5.5      23       50\n",
       "1  Presunto      Dele  Alimentação    6.5      18       45\n",
       "2     Balde        AZ      Limpeza    5.2      12       23\n",
       "3  Biscoito      Real  Alimentação    2.5      25       68\n",
       "4  Pilha AA     Tecno     Ferragem    7.0      15        5\n",
       "5   Lâmpada   Ilumina     Ferragem    5.0      30        6\n",
       "6     Arroz  Coma Bem  Alimentação    7.5      28        8\n",
       "7    Feijão     Sabor     Alimenta    6.5      34       98\n",
       "4  Pilha AA     Tecno     Ferragem    7.0      15       84\n",
       "5   Lâmpada   Ilumina     Ferragem    5.0      30       32"
      ]
     },
     "execution_count": 43,
     "metadata": {},
     "output_type": "execute_result"
    }
   ],
   "source": [
    "# Adicionar uma nova coluna chamada Cliente\n",
    "produtos['Cliente'] = [50, 45, 23, 68, 5, 6, 8, 98, 84, 32]\n",
    "produtos"
   ]
  },
  {
   "cell_type": "code",
   "execution_count": 44,
   "id": "3f8639f5",
   "metadata": {},
   "outputs": [
    {
     "data": {
      "text/html": [
       "<div>\n",
       "<style scoped>\n",
       "    .dataframe tbody tr th:only-of-type {\n",
       "        vertical-align: middle;\n",
       "    }\n",
       "\n",
       "    .dataframe tbody tr th {\n",
       "        vertical-align: top;\n",
       "    }\n",
       "\n",
       "    .dataframe thead th {\n",
       "        text-align: right;\n",
       "    }\n",
       "</style>\n",
       "<table border=\"1\" class=\"dataframe\">\n",
       "  <thead>\n",
       "    <tr style=\"text-align: right;\">\n",
       "      <th></th>\n",
       "      <th>Nome</th>\n",
       "      <th>Marca</th>\n",
       "      <th>Categoria</th>\n",
       "      <th>Preço</th>\n",
       "      <th>Vendas</th>\n",
       "    </tr>\n",
       "  </thead>\n",
       "  <tbody>\n",
       "    <tr>\n",
       "      <th>0</th>\n",
       "      <td>Queijo</td>\n",
       "      <td>Do Bom</td>\n",
       "      <td>Alimentação</td>\n",
       "      <td>5.5</td>\n",
       "      <td>23</td>\n",
       "    </tr>\n",
       "    <tr>\n",
       "      <th>1</th>\n",
       "      <td>Presunto</td>\n",
       "      <td>Dele</td>\n",
       "      <td>Alimentação</td>\n",
       "      <td>6.5</td>\n",
       "      <td>18</td>\n",
       "    </tr>\n",
       "    <tr>\n",
       "      <th>2</th>\n",
       "      <td>Balde</td>\n",
       "      <td>AZ</td>\n",
       "      <td>Limpeza</td>\n",
       "      <td>5.2</td>\n",
       "      <td>12</td>\n",
       "    </tr>\n",
       "    <tr>\n",
       "      <th>3</th>\n",
       "      <td>Biscoito</td>\n",
       "      <td>Real</td>\n",
       "      <td>Alimentação</td>\n",
       "      <td>2.5</td>\n",
       "      <td>25</td>\n",
       "    </tr>\n",
       "    <tr>\n",
       "      <th>4</th>\n",
       "      <td>Pilha AA</td>\n",
       "      <td>Tecno</td>\n",
       "      <td>Ferragem</td>\n",
       "      <td>7.0</td>\n",
       "      <td>15</td>\n",
       "    </tr>\n",
       "    <tr>\n",
       "      <th>5</th>\n",
       "      <td>Lâmpada</td>\n",
       "      <td>Ilumina</td>\n",
       "      <td>Ferragem</td>\n",
       "      <td>5.0</td>\n",
       "      <td>30</td>\n",
       "    </tr>\n",
       "    <tr>\n",
       "      <th>6</th>\n",
       "      <td>Arroz</td>\n",
       "      <td>Coma Bem</td>\n",
       "      <td>Alimentação</td>\n",
       "      <td>7.5</td>\n",
       "      <td>28</td>\n",
       "    </tr>\n",
       "    <tr>\n",
       "      <th>7</th>\n",
       "      <td>Feijão</td>\n",
       "      <td>Sabor</td>\n",
       "      <td>Alimenta</td>\n",
       "      <td>6.5</td>\n",
       "      <td>34</td>\n",
       "    </tr>\n",
       "    <tr>\n",
       "      <th>4</th>\n",
       "      <td>Pilha AA</td>\n",
       "      <td>Tecno</td>\n",
       "      <td>Ferragem</td>\n",
       "      <td>7.0</td>\n",
       "      <td>15</td>\n",
       "    </tr>\n",
       "    <tr>\n",
       "      <th>5</th>\n",
       "      <td>Lâmpada</td>\n",
       "      <td>Ilumina</td>\n",
       "      <td>Ferragem</td>\n",
       "      <td>5.0</td>\n",
       "      <td>30</td>\n",
       "    </tr>\n",
       "  </tbody>\n",
       "</table>\n",
       "</div>"
      ],
      "text/plain": [
       "       Nome     Marca    Categoria  Preço  Vendas\n",
       "0    Queijo    Do Bom  Alimentação    5.5      23\n",
       "1  Presunto      Dele  Alimentação    6.5      18\n",
       "2     Balde        AZ      Limpeza    5.2      12\n",
       "3  Biscoito      Real  Alimentação    2.5      25\n",
       "4  Pilha AA     Tecno     Ferragem    7.0      15\n",
       "5   Lâmpada   Ilumina     Ferragem    5.0      30\n",
       "6     Arroz  Coma Bem  Alimentação    7.5      28\n",
       "7    Feijão     Sabor     Alimenta    6.5      34\n",
       "4  Pilha AA     Tecno     Ferragem    7.0      15\n",
       "5   Lâmpada   Ilumina     Ferragem    5.0      30"
      ]
     },
     "execution_count": 44,
     "metadata": {},
     "output_type": "execute_result"
    }
   ],
   "source": [
    "# Removendo coluna cliente. Axis 1 significa colunas\n",
    "produtos.drop('Cliente',axis=1, inplace=True)\n",
    "produtos"
   ]
  },
  {
   "cell_type": "markdown",
   "id": "d84f9208",
   "metadata": {},
   "source": [
    "### 3.3.7 Manipulando Linha dos DataFrames"
   ]
  },
  {
   "cell_type": "code",
   "execution_count": 45,
   "id": "cc454ace",
   "metadata": {},
   "outputs": [
    {
     "data": {
      "text/html": [
       "<div>\n",
       "<style scoped>\n",
       "    .dataframe tbody tr th:only-of-type {\n",
       "        vertical-align: middle;\n",
       "    }\n",
       "\n",
       "    .dataframe tbody tr th {\n",
       "        vertical-align: top;\n",
       "    }\n",
       "\n",
       "    .dataframe thead th {\n",
       "        text-align: right;\n",
       "    }\n",
       "</style>\n",
       "<table border=\"1\" class=\"dataframe\">\n",
       "  <thead>\n",
       "    <tr style=\"text-align: right;\">\n",
       "      <th></th>\n",
       "      <th>Nome</th>\n",
       "      <th>Marca</th>\n",
       "      <th>Categoria</th>\n",
       "      <th>Preço</th>\n",
       "      <th>Vendas</th>\n",
       "    </tr>\n",
       "  </thead>\n",
       "  <tbody>\n",
       "    <tr>\n",
       "      <th>0</th>\n",
       "      <td>Queijo</td>\n",
       "      <td>Do Bom</td>\n",
       "      <td>Alimentação</td>\n",
       "      <td>6.60</td>\n",
       "      <td>23</td>\n",
       "    </tr>\n",
       "    <tr>\n",
       "      <th>1</th>\n",
       "      <td>Presunto</td>\n",
       "      <td>Dele</td>\n",
       "      <td>Alimentação</td>\n",
       "      <td>7.80</td>\n",
       "      <td>18</td>\n",
       "    </tr>\n",
       "    <tr>\n",
       "      <th>2</th>\n",
       "      <td>Balde</td>\n",
       "      <td>AZ</td>\n",
       "      <td>Limpeza</td>\n",
       "      <td>6.24</td>\n",
       "      <td>12</td>\n",
       "    </tr>\n",
       "    <tr>\n",
       "      <th>3</th>\n",
       "      <td>Biscoito</td>\n",
       "      <td>Real</td>\n",
       "      <td>Alimentação</td>\n",
       "      <td>3.00</td>\n",
       "      <td>25</td>\n",
       "    </tr>\n",
       "    <tr>\n",
       "      <th>4</th>\n",
       "      <td>Pilha AA</td>\n",
       "      <td>Tecno</td>\n",
       "      <td>Ferragem</td>\n",
       "      <td>8.40</td>\n",
       "      <td>15</td>\n",
       "    </tr>\n",
       "    <tr>\n",
       "      <th>5</th>\n",
       "      <td>Lâmpada</td>\n",
       "      <td>Ilumina</td>\n",
       "      <td>Ferragem</td>\n",
       "      <td>6.00</td>\n",
       "      <td>30</td>\n",
       "    </tr>\n",
       "    <tr>\n",
       "      <th>6</th>\n",
       "      <td>Arroz</td>\n",
       "      <td>Coma Bem</td>\n",
       "      <td>Alimentação</td>\n",
       "      <td>9.00</td>\n",
       "      <td>28</td>\n",
       "    </tr>\n",
       "    <tr>\n",
       "      <th>7</th>\n",
       "      <td>Feijão</td>\n",
       "      <td>Sabor</td>\n",
       "      <td>Alimenta</td>\n",
       "      <td>7.80</td>\n",
       "      <td>34</td>\n",
       "    </tr>\n",
       "    <tr>\n",
       "      <th>4</th>\n",
       "      <td>Pilha AA</td>\n",
       "      <td>Tecno</td>\n",
       "      <td>Ferragem</td>\n",
       "      <td>8.40</td>\n",
       "      <td>15</td>\n",
       "    </tr>\n",
       "    <tr>\n",
       "      <th>5</th>\n",
       "      <td>Lâmpada</td>\n",
       "      <td>Ilumina</td>\n",
       "      <td>Ferragem</td>\n",
       "      <td>6.00</td>\n",
       "      <td>30</td>\n",
       "    </tr>\n",
       "  </tbody>\n",
       "</table>\n",
       "</div>"
      ],
      "text/plain": [
       "       Nome     Marca    Categoria  Preço  Vendas\n",
       "0    Queijo    Do Bom  Alimentação   6.60      23\n",
       "1  Presunto      Dele  Alimentação   7.80      18\n",
       "2     Balde        AZ      Limpeza   6.24      12\n",
       "3  Biscoito      Real  Alimentação   3.00      25\n",
       "4  Pilha AA     Tecno     Ferragem   8.40      15\n",
       "5   Lâmpada   Ilumina     Ferragem   6.00      30\n",
       "6     Arroz  Coma Bem  Alimentação   9.00      28\n",
       "7    Feijão     Sabor     Alimenta   7.80      34\n",
       "4  Pilha AA     Tecno     Ferragem   8.40      15\n",
       "5   Lâmpada   Ilumina     Ferragem   6.00      30"
      ]
     },
     "execution_count": 45,
     "metadata": {},
     "output_type": "execute_result"
    }
   ],
   "source": [
    "# Adicionar ao preço 20% de aumento\n",
    "produtos['Preço'] = produtos['Preço'] + (produtos['Preço'] * 20 / 100)\n",
    "produtos"
   ]
  },
  {
   "cell_type": "code",
   "execution_count": 46,
   "id": "fbe21868",
   "metadata": {},
   "outputs": [
    {
     "data": {
      "text/html": [
       "<div>\n",
       "<style scoped>\n",
       "    .dataframe tbody tr th:only-of-type {\n",
       "        vertical-align: middle;\n",
       "    }\n",
       "\n",
       "    .dataframe tbody tr th {\n",
       "        vertical-align: top;\n",
       "    }\n",
       "\n",
       "    .dataframe thead th {\n",
       "        text-align: right;\n",
       "    }\n",
       "</style>\n",
       "<table border=\"1\" class=\"dataframe\">\n",
       "  <thead>\n",
       "    <tr style=\"text-align: right;\">\n",
       "      <th></th>\n",
       "      <th>Nome</th>\n",
       "      <th>Marca</th>\n",
       "      <th>Categoria</th>\n",
       "      <th>Preço</th>\n",
       "      <th>Vendas</th>\n",
       "    </tr>\n",
       "  </thead>\n",
       "  <tbody>\n",
       "    <tr>\n",
       "      <th>0</th>\n",
       "      <td>Queijo</td>\n",
       "      <td>Do Bom</td>\n",
       "      <td>Alimentação</td>\n",
       "      <td>3.30</td>\n",
       "      <td>23</td>\n",
       "    </tr>\n",
       "    <tr>\n",
       "      <th>1</th>\n",
       "      <td>Presunto</td>\n",
       "      <td>Dele</td>\n",
       "      <td>Alimentação</td>\n",
       "      <td>3.90</td>\n",
       "      <td>18</td>\n",
       "    </tr>\n",
       "    <tr>\n",
       "      <th>2</th>\n",
       "      <td>Balde</td>\n",
       "      <td>AZ</td>\n",
       "      <td>Limpeza</td>\n",
       "      <td>3.12</td>\n",
       "      <td>12</td>\n",
       "    </tr>\n",
       "    <tr>\n",
       "      <th>3</th>\n",
       "      <td>Biscoito</td>\n",
       "      <td>Real</td>\n",
       "      <td>Alimentação</td>\n",
       "      <td>1.50</td>\n",
       "      <td>25</td>\n",
       "    </tr>\n",
       "    <tr>\n",
       "      <th>4</th>\n",
       "      <td>Pilha AA</td>\n",
       "      <td>Tecno</td>\n",
       "      <td>Ferragem</td>\n",
       "      <td>4.20</td>\n",
       "      <td>15</td>\n",
       "    </tr>\n",
       "    <tr>\n",
       "      <th>5</th>\n",
       "      <td>Lâmpada</td>\n",
       "      <td>Ilumina</td>\n",
       "      <td>Ferragem</td>\n",
       "      <td>3.00</td>\n",
       "      <td>30</td>\n",
       "    </tr>\n",
       "    <tr>\n",
       "      <th>6</th>\n",
       "      <td>Arroz</td>\n",
       "      <td>Coma Bem</td>\n",
       "      <td>Alimentação</td>\n",
       "      <td>4.50</td>\n",
       "      <td>28</td>\n",
       "    </tr>\n",
       "    <tr>\n",
       "      <th>7</th>\n",
       "      <td>Feijão</td>\n",
       "      <td>Sabor</td>\n",
       "      <td>Alimenta</td>\n",
       "      <td>3.90</td>\n",
       "      <td>34</td>\n",
       "    </tr>\n",
       "    <tr>\n",
       "      <th>4</th>\n",
       "      <td>Pilha AA</td>\n",
       "      <td>Tecno</td>\n",
       "      <td>Ferragem</td>\n",
       "      <td>4.20</td>\n",
       "      <td>15</td>\n",
       "    </tr>\n",
       "    <tr>\n",
       "      <th>5</th>\n",
       "      <td>Lâmpada</td>\n",
       "      <td>Ilumina</td>\n",
       "      <td>Ferragem</td>\n",
       "      <td>3.00</td>\n",
       "      <td>30</td>\n",
       "    </tr>\n",
       "  </tbody>\n",
       "</table>\n",
       "</div>"
      ],
      "text/plain": [
       "       Nome     Marca    Categoria  Preço  Vendas\n",
       "0    Queijo    Do Bom  Alimentação   3.30      23\n",
       "1  Presunto      Dele  Alimentação   3.90      18\n",
       "2     Balde        AZ      Limpeza   3.12      12\n",
       "3  Biscoito      Real  Alimentação   1.50      25\n",
       "4  Pilha AA     Tecno     Ferragem   4.20      15\n",
       "5   Lâmpada   Ilumina     Ferragem   3.00      30\n",
       "6     Arroz  Coma Bem  Alimentação   4.50      28\n",
       "7    Feijão     Sabor     Alimenta   3.90      34\n",
       "4  Pilha AA     Tecno     Ferragem   4.20      15\n",
       "5   Lâmpada   Ilumina     Ferragem   3.00      30"
      ]
     },
     "execution_count": 46,
     "metadata": {},
     "output_type": "execute_result"
    }
   ],
   "source": [
    "# Aplicando x / 2 ao valor de produtos['Preço']\n",
    "produtos['Preço'] = produtos['Preço'].apply(lambda x: x / 2)\n",
    "produtos"
   ]
  },
  {
   "cell_type": "code",
   "execution_count": 47,
   "id": "236f3690",
   "metadata": {},
   "outputs": [
    {
     "data": {
      "text/plain": [
       "Nome         Pilha AA\n",
       "Marca           Tecno\n",
       "Categoria    Ferragem\n",
       "Preço             4.2\n",
       "Vendas             15\n",
       "Name: 4, dtype: object"
      ]
     },
     "execution_count": 47,
     "metadata": {},
     "output_type": "execute_result"
    }
   ],
   "source": [
    "# localizar pelo índice 4\n",
    "produtos.iloc[4]"
   ]
  },
  {
   "cell_type": "code",
   "execution_count": 48,
   "id": "4809da15",
   "metadata": {},
   "outputs": [
    {
     "data": {
      "text/html": [
       "<div>\n",
       "<style scoped>\n",
       "    .dataframe tbody tr th:only-of-type {\n",
       "        vertical-align: middle;\n",
       "    }\n",
       "\n",
       "    .dataframe tbody tr th {\n",
       "        vertical-align: top;\n",
       "    }\n",
       "\n",
       "    .dataframe thead th {\n",
       "        text-align: right;\n",
       "    }\n",
       "</style>\n",
       "<table border=\"1\" class=\"dataframe\">\n",
       "  <thead>\n",
       "    <tr style=\"text-align: right;\">\n",
       "      <th></th>\n",
       "      <th>Nome</th>\n",
       "      <th>Marca</th>\n",
       "      <th>Categoria</th>\n",
       "      <th>Preço</th>\n",
       "      <th>Vendas</th>\n",
       "    </tr>\n",
       "  </thead>\n",
       "  <tbody>\n",
       "    <tr>\n",
       "      <th>2</th>\n",
       "      <td>Balde</td>\n",
       "      <td>AZ</td>\n",
       "      <td>Limpeza</td>\n",
       "      <td>3.12</td>\n",
       "      <td>12</td>\n",
       "    </tr>\n",
       "    <tr>\n",
       "      <th>3</th>\n",
       "      <td>Biscoito</td>\n",
       "      <td>Real</td>\n",
       "      <td>Alimentação</td>\n",
       "      <td>1.50</td>\n",
       "      <td>25</td>\n",
       "    </tr>\n",
       "    <tr>\n",
       "      <th>4</th>\n",
       "      <td>Pilha AA</td>\n",
       "      <td>Tecno</td>\n",
       "      <td>Ferragem</td>\n",
       "      <td>4.20</td>\n",
       "      <td>15</td>\n",
       "    </tr>\n",
       "  </tbody>\n",
       "</table>\n",
       "</div>"
      ],
      "text/plain": [
       "       Nome  Marca    Categoria  Preço  Vendas\n",
       "2     Balde     AZ      Limpeza   3.12      12\n",
       "3  Biscoito   Real  Alimentação   1.50      25\n",
       "4  Pilha AA  Tecno     Ferragem   4.20      15"
      ]
     },
     "execution_count": 48,
     "metadata": {},
     "output_type": "execute_result"
    }
   ],
   "source": [
    "# Busca 5 elementos, mas inclui começando pelo índice 2 \n",
    "produtos.iloc[2:5]"
   ]
  },
  {
   "cell_type": "code",
   "execution_count": 49,
   "id": "dd716a13",
   "metadata": {},
   "outputs": [
    {
     "data": {
      "text/html": [
       "<div>\n",
       "<style scoped>\n",
       "    .dataframe tbody tr th:only-of-type {\n",
       "        vertical-align: middle;\n",
       "    }\n",
       "\n",
       "    .dataframe tbody tr th {\n",
       "        vertical-align: top;\n",
       "    }\n",
       "\n",
       "    .dataframe thead th {\n",
       "        text-align: right;\n",
       "    }\n",
       "</style>\n",
       "<table border=\"1\" class=\"dataframe\">\n",
       "  <thead>\n",
       "    <tr style=\"text-align: right;\">\n",
       "      <th></th>\n",
       "      <th>Nome</th>\n",
       "      <th>Marca</th>\n",
       "      <th>Categoria</th>\n",
       "      <th>Preço</th>\n",
       "      <th>Vendas</th>\n",
       "    </tr>\n",
       "  </thead>\n",
       "  <tbody>\n",
       "    <tr>\n",
       "      <th>5</th>\n",
       "      <td>Lâmpada</td>\n",
       "      <td>Ilumina</td>\n",
       "      <td>Ferragem</td>\n",
       "      <td>3.0</td>\n",
       "      <td>30</td>\n",
       "    </tr>\n",
       "    <tr>\n",
       "      <th>5</th>\n",
       "      <td>Lâmpada</td>\n",
       "      <td>Ilumina</td>\n",
       "      <td>Ferragem</td>\n",
       "      <td>3.0</td>\n",
       "      <td>30</td>\n",
       "    </tr>\n",
       "  </tbody>\n",
       "</table>\n",
       "</div>"
      ],
      "text/plain": [
       "      Nome    Marca Categoria  Preço  Vendas\n",
       "5  Lâmpada  Ilumina  Ferragem    3.0      30\n",
       "5  Lâmpada  Ilumina  Ferragem    3.0      30"
      ]
     },
     "execution_count": 49,
     "metadata": {},
     "output_type": "execute_result"
    }
   ],
   "source": [
    "produtos.loc[5]"
   ]
  },
  {
   "cell_type": "code",
   "execution_count": 50,
   "id": "9254ce72",
   "metadata": {},
   "outputs": [
    {
     "data": {
      "text/html": [
       "<div>\n",
       "<style scoped>\n",
       "    .dataframe tbody tr th:only-of-type {\n",
       "        vertical-align: middle;\n",
       "    }\n",
       "\n",
       "    .dataframe tbody tr th {\n",
       "        vertical-align: top;\n",
       "    }\n",
       "\n",
       "    .dataframe thead th {\n",
       "        text-align: right;\n",
       "    }\n",
       "</style>\n",
       "<table border=\"1\" class=\"dataframe\">\n",
       "  <thead>\n",
       "    <tr style=\"text-align: right;\">\n",
       "      <th></th>\n",
       "      <th>Nome</th>\n",
       "      <th>Marca</th>\n",
       "      <th>Categoria</th>\n",
       "      <th>Preço</th>\n",
       "      <th>Vendas</th>\n",
       "    </tr>\n",
       "  </thead>\n",
       "  <tbody>\n",
       "    <tr>\n",
       "      <th>0</th>\n",
       "      <td>Queijo</td>\n",
       "      <td>Do Bom</td>\n",
       "      <td>Alimentação</td>\n",
       "      <td>3.3</td>\n",
       "      <td>23</td>\n",
       "    </tr>\n",
       "    <tr>\n",
       "      <th>1</th>\n",
       "      <td>Presunto</td>\n",
       "      <td>Dele</td>\n",
       "      <td>Alimentação</td>\n",
       "      <td>3.9</td>\n",
       "      <td>18</td>\n",
       "    </tr>\n",
       "    <tr>\n",
       "      <th>3</th>\n",
       "      <td>Biscoito</td>\n",
       "      <td>Real</td>\n",
       "      <td>Alimentação</td>\n",
       "      <td>1.5</td>\n",
       "      <td>25</td>\n",
       "    </tr>\n",
       "    <tr>\n",
       "      <th>6</th>\n",
       "      <td>Arroz</td>\n",
       "      <td>Coma Bem</td>\n",
       "      <td>Alimentação</td>\n",
       "      <td>4.5</td>\n",
       "      <td>28</td>\n",
       "    </tr>\n",
       "  </tbody>\n",
       "</table>\n",
       "</div>"
      ],
      "text/plain": [
       "       Nome     Marca    Categoria  Preço  Vendas\n",
       "0    Queijo    Do Bom  Alimentação    3.3      23\n",
       "1  Presunto      Dele  Alimentação    3.9      18\n",
       "3  Biscoito      Real  Alimentação    1.5      25\n",
       "6     Arroz  Coma Bem  Alimentação    4.5      28"
      ]
     },
     "execution_count": 50,
     "metadata": {},
     "output_type": "execute_result"
    }
   ],
   "source": [
    "# Exibe as linhas cuja categotia é Alimentação\n",
    "produtos[produtos['Categoria']=='Alimentação']"
   ]
  },
  {
   "cell_type": "code",
   "execution_count": 51,
   "id": "53350c53",
   "metadata": {},
   "outputs": [
    {
     "data": {
      "text/html": [
       "<div>\n",
       "<style scoped>\n",
       "    .dataframe tbody tr th:only-of-type {\n",
       "        vertical-align: middle;\n",
       "    }\n",
       "\n",
       "    .dataframe tbody tr th {\n",
       "        vertical-align: top;\n",
       "    }\n",
       "\n",
       "    .dataframe thead th {\n",
       "        text-align: right;\n",
       "    }\n",
       "</style>\n",
       "<table border=\"1\" class=\"dataframe\">\n",
       "  <thead>\n",
       "    <tr style=\"text-align: right;\">\n",
       "      <th></th>\n",
       "      <th>Nome</th>\n",
       "      <th>Marca</th>\n",
       "      <th>Categoria</th>\n",
       "      <th>Preço</th>\n",
       "      <th>Vendas</th>\n",
       "    </tr>\n",
       "  </thead>\n",
       "  <tbody>\n",
       "    <tr>\n",
       "      <th>4</th>\n",
       "      <td>Pilha AA</td>\n",
       "      <td>Tecno</td>\n",
       "      <td>Ferragem</td>\n",
       "      <td>4.2</td>\n",
       "      <td>15</td>\n",
       "    </tr>\n",
       "    <tr>\n",
       "      <th>5</th>\n",
       "      <td>Lâmpada</td>\n",
       "      <td>Ilumina</td>\n",
       "      <td>Ferragem</td>\n",
       "      <td>3.0</td>\n",
       "      <td>30</td>\n",
       "    </tr>\n",
       "    <tr>\n",
       "      <th>4</th>\n",
       "      <td>Pilha AA</td>\n",
       "      <td>Tecno</td>\n",
       "      <td>Ferragem</td>\n",
       "      <td>4.2</td>\n",
       "      <td>15</td>\n",
       "    </tr>\n",
       "    <tr>\n",
       "      <th>5</th>\n",
       "      <td>Lâmpada</td>\n",
       "      <td>Ilumina</td>\n",
       "      <td>Ferragem</td>\n",
       "      <td>3.0</td>\n",
       "      <td>30</td>\n",
       "    </tr>\n",
       "  </tbody>\n",
       "</table>\n",
       "</div>"
      ],
      "text/plain": [
       "       Nome    Marca Categoria  Preço  Vendas\n",
       "4  Pilha AA    Tecno  Ferragem    4.2      15\n",
       "5   Lâmpada  Ilumina  Ferragem    3.0      30\n",
       "4  Pilha AA    Tecno  Ferragem    4.2      15\n",
       "5   Lâmpada  Ilumina  Ferragem    3.0      30"
      ]
     },
     "execution_count": 51,
     "metadata": {},
     "output_type": "execute_result"
    }
   ],
   "source": [
    "# Buscando linhas com a categoria Ferragem\n",
    "produtos.query('Categoria == \"Ferragem\"')"
   ]
  },
  {
   "cell_type": "code",
   "execution_count": 52,
   "id": "e5b04e57",
   "metadata": {},
   "outputs": [
    {
     "data": {
      "text/html": [
       "<div>\n",
       "<style scoped>\n",
       "    .dataframe tbody tr th:only-of-type {\n",
       "        vertical-align: middle;\n",
       "    }\n",
       "\n",
       "    .dataframe tbody tr th {\n",
       "        vertical-align: top;\n",
       "    }\n",
       "\n",
       "    .dataframe thead th {\n",
       "        text-align: right;\n",
       "    }\n",
       "</style>\n",
       "<table border=\"1\" class=\"dataframe\">\n",
       "  <thead>\n",
       "    <tr style=\"text-align: right;\">\n",
       "      <th></th>\n",
       "      <th>Nome</th>\n",
       "      <th>Marca</th>\n",
       "      <th>Categoria</th>\n",
       "      <th>Preço</th>\n",
       "      <th>Vendas</th>\n",
       "    </tr>\n",
       "  </thead>\n",
       "  <tbody>\n",
       "    <tr>\n",
       "      <th>1</th>\n",
       "      <td>Presunto</td>\n",
       "      <td>Dele</td>\n",
       "      <td>Alimentação</td>\n",
       "      <td>3.9</td>\n",
       "      <td>18</td>\n",
       "    </tr>\n",
       "    <tr>\n",
       "      <th>4</th>\n",
       "      <td>Pilha AA</td>\n",
       "      <td>Tecno</td>\n",
       "      <td>Ferragem</td>\n",
       "      <td>4.2</td>\n",
       "      <td>15</td>\n",
       "    </tr>\n",
       "    <tr>\n",
       "      <th>6</th>\n",
       "      <td>Arroz</td>\n",
       "      <td>Coma Bem</td>\n",
       "      <td>Alimentação</td>\n",
       "      <td>4.5</td>\n",
       "      <td>28</td>\n",
       "    </tr>\n",
       "    <tr>\n",
       "      <th>7</th>\n",
       "      <td>Feijão</td>\n",
       "      <td>Sabor</td>\n",
       "      <td>Alimenta</td>\n",
       "      <td>3.9</td>\n",
       "      <td>34</td>\n",
       "    </tr>\n",
       "    <tr>\n",
       "      <th>4</th>\n",
       "      <td>Pilha AA</td>\n",
       "      <td>Tecno</td>\n",
       "      <td>Ferragem</td>\n",
       "      <td>4.2</td>\n",
       "      <td>15</td>\n",
       "    </tr>\n",
       "  </tbody>\n",
       "</table>\n",
       "</div>"
      ],
      "text/plain": [
       "       Nome     Marca    Categoria  Preço  Vendas\n",
       "1  Presunto      Dele  Alimentação    3.9      18\n",
       "4  Pilha AA     Tecno     Ferragem    4.2      15\n",
       "6     Arroz  Coma Bem  Alimentação    4.5      28\n",
       "7    Feijão     Sabor     Alimenta    3.9      34\n",
       "4  Pilha AA     Tecno     Ferragem    4.2      15"
      ]
     },
     "execution_count": 52,
     "metadata": {},
     "output_type": "execute_result"
    }
   ],
   "source": [
    "# Buscando produtos com o preço maior que 3.5\n",
    "produtos[produtos['Preço'] >= 3.5]"
   ]
  },
  {
   "cell_type": "code",
   "execution_count": 53,
   "id": "64b4b55f",
   "metadata": {},
   "outputs": [
    {
     "data": {
      "text/html": [
       "<div>\n",
       "<style scoped>\n",
       "    .dataframe tbody tr th:only-of-type {\n",
       "        vertical-align: middle;\n",
       "    }\n",
       "\n",
       "    .dataframe tbody tr th {\n",
       "        vertical-align: top;\n",
       "    }\n",
       "\n",
       "    .dataframe thead th {\n",
       "        text-align: right;\n",
       "    }\n",
       "</style>\n",
       "<table border=\"1\" class=\"dataframe\">\n",
       "  <thead>\n",
       "    <tr style=\"text-align: right;\">\n",
       "      <th></th>\n",
       "      <th>Nome</th>\n",
       "      <th>Marca</th>\n",
       "      <th>Categoria</th>\n",
       "      <th>Preço</th>\n",
       "      <th>Vendas</th>\n",
       "    </tr>\n",
       "  </thead>\n",
       "  <tbody>\n",
       "    <tr>\n",
       "      <th>7</th>\n",
       "      <td>Feijão</td>\n",
       "      <td>Sabor</td>\n",
       "      <td>Alimenta</td>\n",
       "      <td>3.90</td>\n",
       "      <td>34</td>\n",
       "    </tr>\n",
       "    <tr>\n",
       "      <th>5</th>\n",
       "      <td>Lâmpada</td>\n",
       "      <td>Ilumina</td>\n",
       "      <td>Ferragem</td>\n",
       "      <td>3.00</td>\n",
       "      <td>30</td>\n",
       "    </tr>\n",
       "    <tr>\n",
       "      <th>5</th>\n",
       "      <td>Lâmpada</td>\n",
       "      <td>Ilumina</td>\n",
       "      <td>Ferragem</td>\n",
       "      <td>3.00</td>\n",
       "      <td>30</td>\n",
       "    </tr>\n",
       "    <tr>\n",
       "      <th>6</th>\n",
       "      <td>Arroz</td>\n",
       "      <td>Coma Bem</td>\n",
       "      <td>Alimentação</td>\n",
       "      <td>4.50</td>\n",
       "      <td>28</td>\n",
       "    </tr>\n",
       "    <tr>\n",
       "      <th>3</th>\n",
       "      <td>Biscoito</td>\n",
       "      <td>Real</td>\n",
       "      <td>Alimentação</td>\n",
       "      <td>1.50</td>\n",
       "      <td>25</td>\n",
       "    </tr>\n",
       "    <tr>\n",
       "      <th>0</th>\n",
       "      <td>Queijo</td>\n",
       "      <td>Do Bom</td>\n",
       "      <td>Alimentação</td>\n",
       "      <td>3.30</td>\n",
       "      <td>23</td>\n",
       "    </tr>\n",
       "    <tr>\n",
       "      <th>1</th>\n",
       "      <td>Presunto</td>\n",
       "      <td>Dele</td>\n",
       "      <td>Alimentação</td>\n",
       "      <td>3.90</td>\n",
       "      <td>18</td>\n",
       "    </tr>\n",
       "    <tr>\n",
       "      <th>4</th>\n",
       "      <td>Pilha AA</td>\n",
       "      <td>Tecno</td>\n",
       "      <td>Ferragem</td>\n",
       "      <td>4.20</td>\n",
       "      <td>15</td>\n",
       "    </tr>\n",
       "    <tr>\n",
       "      <th>4</th>\n",
       "      <td>Pilha AA</td>\n",
       "      <td>Tecno</td>\n",
       "      <td>Ferragem</td>\n",
       "      <td>4.20</td>\n",
       "      <td>15</td>\n",
       "    </tr>\n",
       "    <tr>\n",
       "      <th>2</th>\n",
       "      <td>Balde</td>\n",
       "      <td>AZ</td>\n",
       "      <td>Limpeza</td>\n",
       "      <td>3.12</td>\n",
       "      <td>12</td>\n",
       "    </tr>\n",
       "  </tbody>\n",
       "</table>\n",
       "</div>"
      ],
      "text/plain": [
       "       Nome     Marca    Categoria  Preço  Vendas\n",
       "7    Feijão     Sabor     Alimenta   3.90      34\n",
       "5   Lâmpada   Ilumina     Ferragem   3.00      30\n",
       "5   Lâmpada   Ilumina     Ferragem   3.00      30\n",
       "6     Arroz  Coma Bem  Alimentação   4.50      28\n",
       "3  Biscoito      Real  Alimentação   1.50      25\n",
       "0    Queijo    Do Bom  Alimentação   3.30      23\n",
       "1  Presunto      Dele  Alimentação   3.90      18\n",
       "4  Pilha AA     Tecno     Ferragem   4.20      15\n",
       "4  Pilha AA     Tecno     Ferragem   4.20      15\n",
       "2     Balde        AZ      Limpeza   3.12      12"
      ]
     },
     "execution_count": 53,
     "metadata": {},
     "output_type": "execute_result"
    }
   ],
   "source": [
    "# Ordena produtos pela coluna Vendas\n",
    "produtos.sort_values(by='Vendas', ascending=False,inplace=True)\n",
    "produtos"
   ]
  },
  {
   "cell_type": "code",
   "execution_count": 54,
   "id": "fa01edeb",
   "metadata": {},
   "outputs": [
    {
     "data": {
      "text/html": [
       "<div>\n",
       "<style scoped>\n",
       "    .dataframe tbody tr th:only-of-type {\n",
       "        vertical-align: middle;\n",
       "    }\n",
       "\n",
       "    .dataframe tbody tr th {\n",
       "        vertical-align: top;\n",
       "    }\n",
       "\n",
       "    .dataframe thead th {\n",
       "        text-align: right;\n",
       "    }\n",
       "</style>\n",
       "<table border=\"1\" class=\"dataframe\">\n",
       "  <thead>\n",
       "    <tr style=\"text-align: right;\">\n",
       "      <th></th>\n",
       "      <th>Preço</th>\n",
       "      <th>Vendas</th>\n",
       "    </tr>\n",
       "    <tr>\n",
       "      <th>Categoria</th>\n",
       "      <th></th>\n",
       "      <th></th>\n",
       "    </tr>\n",
       "  </thead>\n",
       "  <tbody>\n",
       "    <tr>\n",
       "      <th>Alimenta</th>\n",
       "      <td>3.90</td>\n",
       "      <td>34.0</td>\n",
       "    </tr>\n",
       "    <tr>\n",
       "      <th>Alimentação</th>\n",
       "      <td>3.30</td>\n",
       "      <td>23.5</td>\n",
       "    </tr>\n",
       "    <tr>\n",
       "      <th>Ferragem</th>\n",
       "      <td>3.60</td>\n",
       "      <td>22.5</td>\n",
       "    </tr>\n",
       "    <tr>\n",
       "      <th>Limpeza</th>\n",
       "      <td>3.12</td>\n",
       "      <td>12.0</td>\n",
       "    </tr>\n",
       "  </tbody>\n",
       "</table>\n",
       "</div>"
      ],
      "text/plain": [
       "             Preço  Vendas\n",
       "Categoria                 \n",
       "Alimenta      3.90    34.0\n",
       "Alimentação   3.30    23.5\n",
       "Ferragem      3.60    22.5\n",
       "Limpeza       3.12    12.0"
      ]
     },
     "execution_count": 54,
     "metadata": {},
     "output_type": "execute_result"
    }
   ],
   "source": [
    "# Média dos valores por Categoria\n",
    "produtos.groupby(['Categoria']).mean()"
   ]
  }
 ],
 "metadata": {
  "kernelspec": {
   "display_name": "Python 3 (ipykernel)",
   "language": "python",
   "name": "python3"
  },
  "language_info": {
   "codemirror_mode": {
    "name": "ipython",
    "version": 3
   },
   "file_extension": ".py",
   "mimetype": "text/x-python",
   "name": "python",
   "nbconvert_exporter": "python",
   "pygments_lexer": "ipython3",
   "version": "3.9.12"
  },
  "varInspector": {
   "cols": {
    "lenName": 16,
    "lenType": 16,
    "lenVar": 40
   },
   "kernels_config": {
    "python": {
     "delete_cmd_postfix": "",
     "delete_cmd_prefix": "del ",
     "library": "var_list.py",
     "varRefreshCmd": "print(var_dic_list())"
    },
    "r": {
     "delete_cmd_postfix": ") ",
     "delete_cmd_prefix": "rm(",
     "library": "var_list.r",
     "varRefreshCmd": "cat(var_dic_list()) "
    }
   },
   "types_to_exclude": [
    "module",
    "function",
    "builtin_function_or_method",
    "instance",
    "_Feature"
   ],
   "window_display": false
  }
 },
 "nbformat": 4,
 "nbformat_minor": 5
}
